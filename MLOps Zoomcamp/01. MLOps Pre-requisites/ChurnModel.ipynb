{
  "cells": [
    {
      "cell_type": "markdown",
      "metadata": {
        "id": "hUHEY5UgbXWl"
      },
      "source": [
        "**Initialization**\n",
        "- I use these three lines of code on top of my each notebooks because it will help to prevent any problems while reloading the same project. And the third line of code helps to make visualization within the notebook."
      ]
    },
    {
      "cell_type": "code",
      "execution_count": 5,
      "metadata": {
        "id": "R8XzgvfEbLvt"
      },
      "outputs": [],
      "source": [
        "#@ INITIALIZATION: \n",
        "%reload_ext autoreload\n",
        "%autoreload 2\n",
        "%matplotlib inline"
      ]
    },
    {
      "cell_type": "markdown",
      "metadata": {
        "id": "M__Mp2GVbeRe"
      },
      "source": [
        "**Downloading Libraries and Dependencies**\n",
        "- I have downloaded all the libraries and dependencies required for the project in one particular cell."
      ]
    },
    {
      "cell_type": "code",
      "execution_count": 6,
      "metadata": {
        "id": "3__mn4hcbd9_"
      },
      "outputs": [],
      "source": [
        "#@ IMPORTING MODULES: \n",
        "import pickle\n",
        "import requests\n",
        "import time\n",
        "import pandas as pd\n",
        "import numpy as np\n",
        "\n",
        "from sklearn.model_selection import train_test_split\n",
        "from sklearn.model_selection import KFold\n",
        "\n",
        "from sklearn.feature_extraction import DictVectorizer\n",
        "from sklearn.linear_model import LogisticRegression\n",
        "from sklearn.metrics import roc_auc_score"
      ]
    },
    {
      "cell_type": "markdown",
      "metadata": {
        "id": "E55sYDTZdcq2"
      },
      "source": [
        "**Getting the Dataset**"
      ]
    },
    {
      "cell_type": "code",
      "execution_count": 7,
      "metadata": {
        "id": "L9PsV8A8dYlL"
      },
      "outputs": [],
      "source": [
        "#@ GETTING THE DATASET: UNCOMMENT BELOW:\n",
        "# data = \"https://raw.githubusercontent.com/alexeygrigorev/mlbookcamp-code/master/chapter-03-churn-prediction/WA_Fn-UseC_-Telco-Customer-Churn.csv\"\n",
        "# !wget $data -O data.csv"
      ]
    },
    {
      "cell_type": "markdown",
      "metadata": {
        "id": "ElM7LMHMfJKQ"
      },
      "source": [
        "**Processing the Dataset**"
      ]
    },
    {
      "cell_type": "code",
      "execution_count": 8,
      "metadata": {
        "colab": {
          "base_uri": "https://localhost:8080/",
          "height": 352
        },
        "id": "09RVQnJHe1Ze",
        "outputId": "3cff5025-5e2d-4ff6-95df-305ec70f350d"
      },
      "outputs": [
        {
          "data": {
            "text/html": [
              "\n",
              "  <div id=\"df-7acac1a5-5d39-47ef-b47e-c9c828be2c8a\">\n",
              "    <div class=\"colab-df-container\">\n",
              "      <div>\n",
              "<style scoped>\n",
              "    .dataframe tbody tr th:only-of-type {\n",
              "        vertical-align: middle;\n",
              "    }\n",
              "\n",
              "    .dataframe tbody tr th {\n",
              "        vertical-align: top;\n",
              "    }\n",
              "\n",
              "    .dataframe thead th {\n",
              "        text-align: right;\n",
              "    }\n",
              "</style>\n",
              "<table border=\"1\" class=\"dataframe\">\n",
              "  <thead>\n",
              "    <tr style=\"text-align: right;\">\n",
              "      <th></th>\n",
              "      <th>customerid</th>\n",
              "      <th>gender</th>\n",
              "      <th>seniorcitizen</th>\n",
              "      <th>partner</th>\n",
              "      <th>dependents</th>\n",
              "      <th>tenure</th>\n",
              "      <th>phoneservice</th>\n",
              "      <th>multiplelines</th>\n",
              "      <th>internetservice</th>\n",
              "      <th>onlinesecurity</th>\n",
              "      <th>...</th>\n",
              "      <th>deviceprotection</th>\n",
              "      <th>techsupport</th>\n",
              "      <th>streamingtv</th>\n",
              "      <th>streamingmovies</th>\n",
              "      <th>contract</th>\n",
              "      <th>paperlessbilling</th>\n",
              "      <th>paymentmethod</th>\n",
              "      <th>monthlycharges</th>\n",
              "      <th>totalcharges</th>\n",
              "      <th>churn</th>\n",
              "    </tr>\n",
              "  </thead>\n",
              "  <tbody>\n",
              "    <tr>\n",
              "      <th>0</th>\n",
              "      <td>7590-vhveg</td>\n",
              "      <td>female</td>\n",
              "      <td>0</td>\n",
              "      <td>yes</td>\n",
              "      <td>no</td>\n",
              "      <td>1</td>\n",
              "      <td>no</td>\n",
              "      <td>no_phone_service</td>\n",
              "      <td>dsl</td>\n",
              "      <td>no</td>\n",
              "      <td>...</td>\n",
              "      <td>no</td>\n",
              "      <td>no</td>\n",
              "      <td>no</td>\n",
              "      <td>no</td>\n",
              "      <td>month-to-month</td>\n",
              "      <td>yes</td>\n",
              "      <td>electronic_check</td>\n",
              "      <td>29.85</td>\n",
              "      <td>29.85</td>\n",
              "      <td>0</td>\n",
              "    </tr>\n",
              "    <tr>\n",
              "      <th>1</th>\n",
              "      <td>5575-gnvde</td>\n",
              "      <td>male</td>\n",
              "      <td>0</td>\n",
              "      <td>no</td>\n",
              "      <td>no</td>\n",
              "      <td>34</td>\n",
              "      <td>yes</td>\n",
              "      <td>no</td>\n",
              "      <td>dsl</td>\n",
              "      <td>yes</td>\n",
              "      <td>...</td>\n",
              "      <td>yes</td>\n",
              "      <td>no</td>\n",
              "      <td>no</td>\n",
              "      <td>no</td>\n",
              "      <td>one_year</td>\n",
              "      <td>no</td>\n",
              "      <td>mailed_check</td>\n",
              "      <td>56.95</td>\n",
              "      <td>1889.50</td>\n",
              "      <td>0</td>\n",
              "    </tr>\n",
              "    <tr>\n",
              "      <th>2</th>\n",
              "      <td>3668-qpybk</td>\n",
              "      <td>male</td>\n",
              "      <td>0</td>\n",
              "      <td>no</td>\n",
              "      <td>no</td>\n",
              "      <td>2</td>\n",
              "      <td>yes</td>\n",
              "      <td>no</td>\n",
              "      <td>dsl</td>\n",
              "      <td>yes</td>\n",
              "      <td>...</td>\n",
              "      <td>no</td>\n",
              "      <td>no</td>\n",
              "      <td>no</td>\n",
              "      <td>no</td>\n",
              "      <td>month-to-month</td>\n",
              "      <td>yes</td>\n",
              "      <td>mailed_check</td>\n",
              "      <td>53.85</td>\n",
              "      <td>108.15</td>\n",
              "      <td>1</td>\n",
              "    </tr>\n",
              "    <tr>\n",
              "      <th>3</th>\n",
              "      <td>7795-cfocw</td>\n",
              "      <td>male</td>\n",
              "      <td>0</td>\n",
              "      <td>no</td>\n",
              "      <td>no</td>\n",
              "      <td>45</td>\n",
              "      <td>no</td>\n",
              "      <td>no_phone_service</td>\n",
              "      <td>dsl</td>\n",
              "      <td>yes</td>\n",
              "      <td>...</td>\n",
              "      <td>yes</td>\n",
              "      <td>yes</td>\n",
              "      <td>no</td>\n",
              "      <td>no</td>\n",
              "      <td>one_year</td>\n",
              "      <td>no</td>\n",
              "      <td>bank_transfer_(automatic)</td>\n",
              "      <td>42.30</td>\n",
              "      <td>1840.75</td>\n",
              "      <td>0</td>\n",
              "    </tr>\n",
              "    <tr>\n",
              "      <th>4</th>\n",
              "      <td>9237-hqitu</td>\n",
              "      <td>female</td>\n",
              "      <td>0</td>\n",
              "      <td>no</td>\n",
              "      <td>no</td>\n",
              "      <td>2</td>\n",
              "      <td>yes</td>\n",
              "      <td>no</td>\n",
              "      <td>fiber_optic</td>\n",
              "      <td>no</td>\n",
              "      <td>...</td>\n",
              "      <td>no</td>\n",
              "      <td>no</td>\n",
              "      <td>no</td>\n",
              "      <td>no</td>\n",
              "      <td>month-to-month</td>\n",
              "      <td>yes</td>\n",
              "      <td>electronic_check</td>\n",
              "      <td>70.70</td>\n",
              "      <td>151.65</td>\n",
              "      <td>1</td>\n",
              "    </tr>\n",
              "  </tbody>\n",
              "</table>\n",
              "<p>5 rows × 21 columns</p>\n",
              "</div>\n",
              "      <button class=\"colab-df-convert\" onclick=\"convertToInteractive('df-7acac1a5-5d39-47ef-b47e-c9c828be2c8a')\"\n",
              "              title=\"Convert this dataframe to an interactive table.\"\n",
              "              style=\"display:none;\">\n",
              "        \n",
              "  <svg xmlns=\"http://www.w3.org/2000/svg\" height=\"24px\"viewBox=\"0 0 24 24\"\n",
              "       width=\"24px\">\n",
              "    <path d=\"M0 0h24v24H0V0z\" fill=\"none\"/>\n",
              "    <path d=\"M18.56 5.44l.94 2.06.94-2.06 2.06-.94-2.06-.94-.94-2.06-.94 2.06-2.06.94zm-11 1L8.5 8.5l.94-2.06 2.06-.94-2.06-.94L8.5 2.5l-.94 2.06-2.06.94zm10 10l.94 2.06.94-2.06 2.06-.94-2.06-.94-.94-2.06-.94 2.06-2.06.94z\"/><path d=\"M17.41 7.96l-1.37-1.37c-.4-.4-.92-.59-1.43-.59-.52 0-1.04.2-1.43.59L10.3 9.45l-7.72 7.72c-.78.78-.78 2.05 0 2.83L4 21.41c.39.39.9.59 1.41.59.51 0 1.02-.2 1.41-.59l7.78-7.78 2.81-2.81c.8-.78.8-2.07 0-2.86zM5.41 20L4 18.59l7.72-7.72 1.47 1.35L5.41 20z\"/>\n",
              "  </svg>\n",
              "      </button>\n",
              "      \n",
              "  <style>\n",
              "    .colab-df-container {\n",
              "      display:flex;\n",
              "      flex-wrap:wrap;\n",
              "      gap: 12px;\n",
              "    }\n",
              "\n",
              "    .colab-df-convert {\n",
              "      background-color: #E8F0FE;\n",
              "      border: none;\n",
              "      border-radius: 50%;\n",
              "      cursor: pointer;\n",
              "      display: none;\n",
              "      fill: #1967D2;\n",
              "      height: 32px;\n",
              "      padding: 0 0 0 0;\n",
              "      width: 32px;\n",
              "    }\n",
              "\n",
              "    .colab-df-convert:hover {\n",
              "      background-color: #E2EBFA;\n",
              "      box-shadow: 0px 1px 2px rgba(60, 64, 67, 0.3), 0px 1px 3px 1px rgba(60, 64, 67, 0.15);\n",
              "      fill: #174EA6;\n",
              "    }\n",
              "\n",
              "    [theme=dark] .colab-df-convert {\n",
              "      background-color: #3B4455;\n",
              "      fill: #D2E3FC;\n",
              "    }\n",
              "\n",
              "    [theme=dark] .colab-df-convert:hover {\n",
              "      background-color: #434B5C;\n",
              "      box-shadow: 0px 1px 3px 1px rgba(0, 0, 0, 0.15);\n",
              "      filter: drop-shadow(0px 1px 2px rgba(0, 0, 0, 0.3));\n",
              "      fill: #FFFFFF;\n",
              "    }\n",
              "  </style>\n",
              "\n",
              "      <script>\n",
              "        const buttonEl =\n",
              "          document.querySelector('#df-7acac1a5-5d39-47ef-b47e-c9c828be2c8a button.colab-df-convert');\n",
              "        buttonEl.style.display =\n",
              "          google.colab.kernel.accessAllowed ? 'block' : 'none';\n",
              "\n",
              "        async function convertToInteractive(key) {\n",
              "          const element = document.querySelector('#df-7acac1a5-5d39-47ef-b47e-c9c828be2c8a');\n",
              "          const dataTable =\n",
              "            await google.colab.kernel.invokeFunction('convertToInteractive',\n",
              "                                                     [key], {});\n",
              "          if (!dataTable) return;\n",
              "\n",
              "          const docLinkHtml = 'Like what you see? Visit the ' +\n",
              "            '<a target=\"_blank\" href=https://colab.research.google.com/notebooks/data_table.ipynb>data table notebook</a>'\n",
              "            + ' to learn more about interactive tables.';\n",
              "          element.innerHTML = '';\n",
              "          dataTable['output_type'] = 'display_data';\n",
              "          await google.colab.output.renderOutput(dataTable, element);\n",
              "          const docLink = document.createElement('div');\n",
              "          docLink.innerHTML = docLinkHtml;\n",
              "          element.appendChild(docLink);\n",
              "        }\n",
              "      </script>\n",
              "    </div>\n",
              "  </div>\n",
              "  "
            ],
            "text/plain": [
              "   customerid  gender  seniorcitizen partner dependents  tenure phoneservice  \\\n",
              "0  7590-vhveg  female              0     yes         no       1           no   \n",
              "1  5575-gnvde    male              0      no         no      34          yes   \n",
              "2  3668-qpybk    male              0      no         no       2          yes   \n",
              "3  7795-cfocw    male              0      no         no      45           no   \n",
              "4  9237-hqitu  female              0      no         no       2          yes   \n",
              "\n",
              "      multiplelines internetservice onlinesecurity  ... deviceprotection  \\\n",
              "0  no_phone_service             dsl             no  ...               no   \n",
              "1                no             dsl            yes  ...              yes   \n",
              "2                no             dsl            yes  ...               no   \n",
              "3  no_phone_service             dsl            yes  ...              yes   \n",
              "4                no     fiber_optic             no  ...               no   \n",
              "\n",
              "  techsupport streamingtv streamingmovies        contract paperlessbilling  \\\n",
              "0          no          no              no  month-to-month              yes   \n",
              "1          no          no              no        one_year               no   \n",
              "2          no          no              no  month-to-month              yes   \n",
              "3         yes          no              no        one_year               no   \n",
              "4          no          no              no  month-to-month              yes   \n",
              "\n",
              "               paymentmethod monthlycharges  totalcharges  churn  \n",
              "0           electronic_check          29.85         29.85      0  \n",
              "1               mailed_check          56.95       1889.50      0  \n",
              "2               mailed_check          53.85        108.15      1  \n",
              "3  bank_transfer_(automatic)          42.30       1840.75      0  \n",
              "4           electronic_check          70.70        151.65      1  \n",
              "\n",
              "[5 rows x 21 columns]"
            ]
          },
          "execution_count": 8,
          "metadata": {},
          "output_type": "execute_result"
        }
      ],
      "source": [
        "#@ PROCESSING THE DATASET:\n",
        "df = pd.read_csv('data.csv')                                                    # Reading the dataset. \n",
        "df.columns = df.columns.str.lower().str.replace(' ', '_')                       # Preparing columns. \n",
        "categorical_columns = list(df.dtypes[df.dtypes == 'object'].index)              # Index of categorical columns.\n",
        "for c in categorical_columns:\n",
        "    df[c] = df[c].str.lower().str.replace(' ', '_')\n",
        "df.totalcharges = pd.to_numeric(df.totalcharges, errors='coerce')               # Converting numerical column.\n",
        "df.totalcharges = df.totalcharges.fillna(0)\n",
        "df.churn = (df.churn == 'yes').astype(int)\n",
        "df.head()                                                                       # Inspecting dataframe."
      ]
    },
    {
      "cell_type": "code",
      "execution_count": 9,
      "metadata": {
        "id": "EtH9m-l3gjb-"
      },
      "outputs": [],
      "source": [
        "#@ PREPARING THE DATASET:\n",
        "df_full_train, df_test = train_test_split(df, test_size=0.2, random_state=1)        # Splitting the dataset.\n",
        "numerical = ['tenure', 'monthlycharges', 'totalcharges']                            # Numerical columns.\n",
        "categorical = [\n",
        "    'gender',\n",
        "    'seniorcitizen',\n",
        "    'partner',\n",
        "    'dependents',\n",
        "    'phoneservice',\n",
        "    'multiplelines',\n",
        "    'internetservice',\n",
        "    'onlinesecurity',\n",
        "    'onlinebackup',\n",
        "    'deviceprotection',\n",
        "    'techsupport',\n",
        "    'streamingtv',\n",
        "    'streamingmovies',\n",
        "    'contract',\n",
        "    'paperlessbilling',\n",
        "    'paymentmethod',\n",
        "]                                                                                   # Categorical columns."
      ]
    },
    {
      "cell_type": "markdown",
      "metadata": {
        "id": "_BzvLRfWh9qo"
      },
      "source": [
        "**Training Model**"
      ]
    },
    {
      "cell_type": "code",
      "execution_count": 10,
      "metadata": {
        "id": "f2RQ2gULh4nz"
      },
      "outputs": [],
      "source": [
        "#@ FUNCTION TO TRAIN THE MODEL:\n",
        "def train(df_train, y_train, C=1.0):                                                # Defining function.\n",
        "    dicts = df_train[categorical + numerical].to_dict(orient=\"records\")             # Creating dictionary.\n",
        "    dv = DictVectorizer(sparse=False)                                               # Initialization.\n",
        "    X_train = dv.fit_transform(dicts)                                               # Vectorization.\n",
        "    model = LogisticRegression(C=C, max_iter=1000)                                  # Initializing logistic regression.\n",
        "    model.fit(X_train, y_train)                                                     # Training the model.\n",
        "    return dv, model\n",
        "\n",
        "#@ FUNCTION FOR PREDICTION:\n",
        "def predict(df, dv, model):\n",
        "    dicts = df[categorical + numerical].to_dict(orient=\"records\")             # Creating dictionary.\n",
        "    X = dv.transform(dicts)                                                   # Vectorization.\n",
        "    y_pred = model.predict_proba(X)[:, 1]                                     # Generating predictions.\n",
        "    return y_pred\n",
        "\n",
        "#@ INITIALIZING PARAMETERS:\n",
        "C = 1.0\n",
        "n_splits = 5"
      ]
    },
    {
      "cell_type": "code",
      "execution_count": 11,
      "metadata": {
        "colab": {
          "base_uri": "https://localhost:8080/"
        },
        "id": "9L-UIcFkuXrf",
        "outputId": "0f29c471-5a7b-45c8-cd6c-83281a16c529"
      },
      "outputs": [
        {
          "name": "stdout",
          "output_type": "stream",
          "text": [
            "C=1.0 0.843 +- 0.007\n"
          ]
        }
      ],
      "source": [
        "#@ INITIALIZING KFOLD CROSS VALIDATION:\n",
        "kfold = KFold(n_splits=n_splits, shuffle=True, random_state=2022)           # Initializing KFold.\n",
        "scores = [] \n",
        "for train_idx, val_idx in kfold.split(df_full_train):\n",
        "    df_train = df_full_train.iloc[train_idx]                                # Training data.\n",
        "    df_val = df_full_train.iloc[val_idx]                                    # Validation data.\n",
        "    y_train = df_train.churn.values\n",
        "    y_val = df_val.churn.values\n",
        "    dv, model = train(df_train, y_train, C=C)                               # Training the model.\n",
        "    y_pred = predict(df_val, dv, model)                                     # Getting predictions. \n",
        "    auc = roc_auc_score(y_val, y_pred)                                      # Getting roc auc.\n",
        "    scores.append(auc)\n",
        "print(\"C=%s %.3f +- %.3f\" % (C, np.mean(scores), np.std(scores)))           # Inspection."
      ]
    },
    {
      "cell_type": "code",
      "execution_count": 12,
      "metadata": {
        "colab": {
          "base_uri": "https://localhost:8080/"
        },
        "id": "XImiCiIwwFt9",
        "outputId": "cd66df18-b7ec-4c4e-fb2e-0510045c29e0"
      },
      "outputs": [
        {
          "data": {
            "text/plain": [
              "[0.8440837773467234,\n",
              " 0.8532735916597619,\n",
              " 0.8465001629726205,\n",
              " 0.8350742949008101,\n",
              " 0.8353297390217221]"
            ]
          },
          "execution_count": 12,
          "metadata": {},
          "output_type": "execute_result"
        }
      ],
      "source": [
        "#@ INSPECTING SCORES:\n",
        "scores"
      ]
    },
    {
      "cell_type": "code",
      "execution_count": 13,
      "metadata": {
        "colab": {
          "base_uri": "https://localhost:8080/"
        },
        "id": "OdW184Nmxrc4",
        "outputId": "f4bad0b1-2b60-4a51-fef3-8f14c8ff11ca"
      },
      "outputs": [
        {
          "data": {
            "text/plain": [
              "0.8572386167896259"
            ]
          },
          "execution_count": 13,
          "metadata": {},
          "output_type": "execute_result"
        }
      ],
      "source": [
        "#@ TRAINING FINAL MODEL:\n",
        "dv, model = train(df_full_train, df_full_train.churn.values, C=1.0)     # Training the model.\n",
        "y_pred = predict(df_test, dv, model)                                    # Model predictions.\n",
        "auc = roc_auc_score(df_test.churn.values, y_pred)                       # Inspecting auc roc.\n",
        "auc"
      ]
    },
    {
      "cell_type": "markdown",
      "metadata": {
        "id": "9AwfGaFTyrIZ"
      },
      "source": [
        "**Saving Model**"
      ]
    },
    {
      "cell_type": "code",
      "execution_count": 14,
      "metadata": {
        "colab": {
          "base_uri": "https://localhost:8080/",
          "height": 36
        },
        "id": "bTcZxeCqyFmX",
        "outputId": "a4beb675-fbed-4a75-83e4-7a51b3dec597"
      },
      "outputs": [
        {
          "data": {
            "application/vnd.google.colaboratory.intrinsic+json": {
              "type": "string"
            },
            "text/plain": [
              "'model_C=1.0.bin'"
            ]
          },
          "execution_count": 14,
          "metadata": {},
          "output_type": "execute_result"
        }
      ],
      "source": [
        "#@ SAVING THE MODEL:\n",
        "output_file = f\"model_C={C}.bin\"                        # Initialization. \n",
        "f_out = open(output_file, \"wb\")                         # Opening file.\n",
        "pickle.dump((dv, model), f_out)\n",
        "f_out.close()                                           # Closing file.\n",
        "output_file"
      ]
    },
    {
      "cell_type": "code",
      "execution_count": 15,
      "metadata": {
        "colab": {
          "base_uri": "https://localhost:8080/"
        },
        "id": "4XaAuta7z-HY",
        "outputId": "668d9845-c120-4007-b32e-f4ce22489174"
      },
      "outputs": [
        {
          "data": {
            "text/plain": [
              "(DictVectorizer(sparse=False), LogisticRegression(max_iter=1000))"
            ]
          },
          "execution_count": 15,
          "metadata": {},
          "output_type": "execute_result"
        }
      ],
      "source": [
        "#@ LOADING THE MODEL:\n",
        "input_file = \"model_C=1.0.bin\"\n",
        "with open(input_file, \"rb\") as f_in:\n",
        "    (dv, model) = pickle.load(f_in)                     # Loading model.\n",
        "dv, model                                               # Inspection."
      ]
    },
    {
      "cell_type": "markdown",
      "metadata": {
        "id": "-ux4MzWB1Wte"
      },
      "source": [
        "**Model Evaluation**"
      ]
    },
    {
      "cell_type": "code",
      "execution_count": 16,
      "metadata": {
        "id": "wqQCcyub1H5p"
      },
      "outputs": [],
      "source": [
        "#@ INITIALIZING MODEL EVALUATION:\n",
        "customer = {\n",
        "    'gender': 'female',\n",
        "    'seniorcitizen': 0,\n",
        "    'partner': 'yes',\n",
        "    'dependents': 'no',\n",
        "    'phoneservice': 'no',\n",
        "    'multiplelines': 'no_phone_service',\n",
        "    'internetservice': 'dsl',\n",
        "    'onlinesecurity': 'no',\n",
        "    'onlinebackup': 'yes',\n",
        "    'deviceprotection': 'no',\n",
        "    'techsupport': 'no',\n",
        "    'streamingtv': 'no',\n",
        "    'streamingmovies': 'no',\n",
        "    'contract': 'month-to-month',\n",
        "    'paperlessbilling': 'yes',\n",
        "    'paymentmethod': 'electronic_check',\n",
        "    'tenure': 1,\n",
        "    'monthlycharges': 29.85,\n",
        "    'totalcharges': 29.85\n",
        "}\n",
        "X = dv.transform([customer])"
      ]
    },
    {
      "cell_type": "code",
      "execution_count": 17,
      "metadata": {
        "colab": {
          "base_uri": "https://localhost:8080/"
        },
        "id": "wh85oofB12ro",
        "outputId": "c74b48d8-42b6-4bda-b655-acb54b1cd827"
      },
      "outputs": [
        {
          "data": {
            "text/plain": [
              "0.6363584152704198"
            ]
          },
          "execution_count": 17,
          "metadata": {},
          "output_type": "execute_result"
        }
      ],
      "source": [
        "#@ MODEL PREDICTION:\n",
        "model.predict_proba(X)[0, 1]"
      ]
    },
    {
      "cell_type": "markdown",
      "metadata": {
        "id": "5tpaO6wY1mDW"
      },
      "source": [
        "**Testing Churn App**"
      ]
    },
    {
      "cell_type": "code",
      "execution_count": 18,
      "metadata": {
        "id": "2NhYEOml1wxX"
      },
      "outputs": [],
      "source": [
        "#@ TESTING CHURN APP:\n",
        "url = 'http://localhost:9696/predict'                # Initializing url."
      ]
    },
    {
      "cell_type": "code",
      "execution_count": 19,
      "metadata": {
        "id": "B-VXOtCv4DeB"
      },
      "outputs": [],
      "source": [
        "#@ INITIALIZATION:\n",
        "customer = {\n",
        "    \"gender\": \"female\",\n",
        "    \"seniorcitizen\": 0,\n",
        "    \"partner\": \"yes\",\n",
        "    \"dependents\": \"no\",\n",
        "    \"phoneservice\": \"no\",\n",
        "    \"multiplelines\": \"no_phone_service\",\n",
        "    \"internetservice\": \"dsl\",\n",
        "    \"onlinesecurity\": \"no\",\n",
        "    \"onlinebackup\": \"yes\",\n",
        "    \"deviceprotection\": \"no\",\n",
        "    \"techsupport\": \"no\",\n",
        "    \"streamingtv\": \"no\",\n",
        "    \"streamingmovies\": \"no\",\n",
        "    \"contract\": \"month-to-month\",\n",
        "    \"paperlessbilling\": \"yes\",\n",
        "    \"paymentmethod\": \"electronic_check\",\n",
        "    \"tenure\": 1,\n",
        "    \"monthlycharges\": 29.85,\n",
        "    \"totalcharges\": 29.85\n",
        "}"
      ]
    },
    {
      "cell_type": "code",
      "execution_count": null,
      "metadata": {
        "colab": {
          "base_uri": "https://localhost:8080/",
          "height": 640
        },
        "id": "F4WajUK82Q_E",
        "outputId": "25e042ef-8402-41a0-f5e7-2d0a4a41b53e"
      },
      "outputs": [],
      "source": [
        "#@ TESTING CHURN APP:\n",
        "response = requests.post(url, json=customer).json()\n",
        "response"
      ]
    },
    {
      "cell_type": "code",
      "execution_count": null,
      "metadata": {
        "id": "TEwwlUI42mVR"
      },
      "outputs": [],
      "source": [
        "#@ INSPECTING RESPONSE:\n",
        "if response[\"churn\"]:\n",
        "    print(\"sending email to %s\" % ('xyz'))"
      ]
    }
  ],
  "metadata": {
    "colab": {
      "name": "Churn Model.ipynb",
      "provenance": []
    },
    "kernelspec": {
      "display_name": "Python 3",
      "name": "python3"
    },
    "language_info": {
      "name": "python"
    }
  },
  "nbformat": 4,
  "nbformat_minor": 0
}
