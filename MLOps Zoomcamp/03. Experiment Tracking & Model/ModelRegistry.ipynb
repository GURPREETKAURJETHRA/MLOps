{
 "cells": [
  {
   "cell_type": "code",
   "execution_count": 29,
   "id": "fe5553e0",
   "metadata": {},
   "outputs": [],
   "source": [
    "# IMPORTING MODULES:\n",
    "import mlflow\n",
    "from mlflow.tracking import MlflowClient\n",
    "from mlflow.entities import ViewType\n",
    "\n",
    "import pickle\n",
    "import pandas as pd\n",
    "from datetime import datetime\n",
    "from sklearn.metrics import mean_squared_error"
   ]
  },
  {
   "cell_type": "code",
   "execution_count": 1,
   "id": "a792620d",
   "metadata": {},
   "outputs": [
    {
     "data": {
      "text/plain": [
       "<Experiment: artifact_location='./mlruns/2', experiment_id='2', lifecycle_stage='active', name='nyc-taxi-exp', tags={}>"
      ]
     },
     "execution_count": 1,
     "metadata": {},
     "output_type": "execute_result"
    }
   ],
   "source": [
    "# IMPORTING AND SETTING UP MLFLOW:\n",
    "mlflow.set_tracking_uri(\"sqlite:///mlflow.db\")\n",
    "mlflow.set_experiment(\"nyc-taxi-exp\")"
   ]
  },
  {
   "cell_type": "code",
   "execution_count": 2,
   "id": "92205fb3",
   "metadata": {},
   "outputs": [],
   "source": [
    "# INTERACTING WITH MODEL REGISTRY:\n",
    "MLFLOW_TRACKING_URI = \"sqlite:///mlflow.db\"\n",
    "client = MlflowClient(tracking_uri=MLFLOW_TRACKING_URI)"
   ]
  },
  {
   "cell_type": "code",
   "execution_count": 5,
   "id": "afbc0a30",
   "metadata": {},
   "outputs": [
    {
     "data": {
      "text/plain": [
       "'4'"
      ]
     },
     "execution_count": 5,
     "metadata": {},
     "output_type": "execute_result"
    }
   ],
   "source": [
    "# CREATING NEW EXPERIMENT:\n",
    "client.create_experiment(name=\"my-cool-expr\")"
   ]
  },
  {
   "cell_type": "code",
   "execution_count": 8,
   "id": "2f81a33b",
   "metadata": {},
   "outputs": [
    {
     "name": "stdout",
     "output_type": "stream",
     "text": [
      "run id: 646a8e3c8db64334853cd81e8cba2272, rmse: 6.3010\n",
      "run id: 84ecf61f61fe4f0ba60ce927a1002aa8, rmse: 6.3010\n",
      "run id: 40ab473dabed47529cdb05c2de071a44, rmse: 6.3010\n",
      "run id: faff425333004c21af6c3139bac33f8b, rmse: 6.3028\n",
      "run id: 9d88155e7db9479580813c0ff297cdc4, rmse: 6.3439\n"
     ]
    }
   ],
   "source": [
    "# INSPECTING BEST RUNS:\n",
    "runs = client.search_runs(\n",
    "    experiment_ids=2,\n",
    "    filter_string=\"metrics.rmse < 6.8\",\n",
    "    run_view_type=ViewType.ACTIVE_ONLY,\n",
    "    max_results=5,\n",
    "    order_by=[\"metrics.rmse ASC\"]\n",
    ")\n",
    "\n",
    "# INSPECTION:\n",
    "for run in runs:\n",
    "    print(f\"run id: {run.info.run_id}, rmse: {run.data.metrics['rmse']:.4f}\")"
   ]
  },
  {
   "cell_type": "code",
   "execution_count": 11,
   "id": "3eae2051",
   "metadata": {},
   "outputs": [
    {
     "name": "stderr",
     "output_type": "stream",
     "text": [
      "Registered model 'nyc-taxi-regressor' already exists. Creating a new version of this model...\n",
      "2022/05/29 11:13:28 INFO mlflow.tracking._model_registry.client: Waiting up to 300 seconds for model version to finish creation.                     Model name: nyc-taxi-regressor, version 3\n",
      "Created version '3' of model 'nyc-taxi-regressor'.\n"
     ]
    },
    {
     "data": {
      "text/plain": [
       "<ModelVersion: creation_timestamp=1653802108089, current_stage='None', description=None, last_updated_timestamp=1653802108089, name='nyc-taxi-regressor', run_id='9d88155e7db9479580813c0ff297cdc4', run_link=None, source='./mlruns/2/9d88155e7db9479580813c0ff297cdc4/artifacts/model', status='READY', status_message=None, tags={}, user_id=None, version=3>"
      ]
     },
     "execution_count": 11,
     "metadata": {},
     "output_type": "execute_result"
    }
   ],
   "source": [
    "# REGISTER THE MODEL:\n",
    "run_id = \"9d88155e7db9479580813c0ff297cdc4\"\n",
    "model_uri = f\"runs:/{run_id}/model\"\n",
    "mlflow.register_model(model_uri=model_uri, name=\"nyc-taxi-regressor\")"
   ]
  },
  {
   "cell_type": "code",
   "execution_count": 16,
   "id": "92d9c40c",
   "metadata": {},
   "outputs": [
    {
     "name": "stdout",
     "output_type": "stream",
     "text": [
      "version: 2, stage: Staging\n",
      "version: 3, stage: None\n"
     ]
    }
   ],
   "source": [
    "# GETTING LATEST VERSION OF MODEL:\n",
    "model_name = \"nyc-taxi-regressor\"\n",
    "latest_ver = client.get_latest_versions(name=model_name)\n",
    "for version in latest_ver:\n",
    "    print(f\"version: {version.version}, stage: {version.current_stage}\")"
   ]
  },
  {
   "cell_type": "code",
   "execution_count": 20,
   "id": "83fcb39f",
   "metadata": {},
   "outputs": [
    {
     "data": {
      "text/plain": [
       "<ModelVersion: creation_timestamp=1653802108089, current_stage='Staging', description=None, last_updated_timestamp=1653802827553, name='nyc-taxi-regressor', run_id='9d88155e7db9479580813c0ff297cdc4', run_link=None, source='./mlruns/2/9d88155e7db9479580813c0ff297cdc4/artifacts/model', status='READY', status_message=None, tags={}, user_id=None, version=3>"
      ]
     },
     "execution_count": 20,
     "metadata": {},
     "output_type": "execute_result"
    }
   ],
   "source": [
    "# TRANSITION MODEL VERSION STAGE:\n",
    "model_ver = 3\n",
    "new_stage = \"Staging\"\n",
    "client.transition_model_version_stage(\n",
    "    name=model_name,\n",
    "    version=model_ver, \n",
    "    stage=new_stage,\n",
    "    archive_existing_versions=False\n",
    ")"
   ]
  },
  {
   "cell_type": "code",
   "execution_count": 23,
   "id": "02d9a801",
   "metadata": {},
   "outputs": [
    {
     "data": {
      "text/plain": [
       "<ModelVersion: creation_timestamp=1653802108089, current_stage='Staging', description='The model version 3 was transitioned to Staging on 2022-05-29', last_updated_timestamp=1653802881915, name='nyc-taxi-regressor', run_id='9d88155e7db9479580813c0ff297cdc4', run_link=None, source='./mlruns/2/9d88155e7db9479580813c0ff297cdc4/artifacts/model', status='READY', status_message=None, tags={}, user_id=None, version=3>"
      ]
     },
     "execution_count": 23,
     "metadata": {},
     "output_type": "execute_result"
    }
   ],
   "source": [
    "# UPDATING MODEL VERSIONS:\n",
    "date = datetime.today().date()\n",
    "client.update_model_version(\n",
    "    name=model_name,\n",
    "    version=model_ver,\n",
    "    description=f\"The model version {model_ver} was transitioned to {new_stage} on {date}\"\n",
    ")"
   ]
  },
  {
   "cell_type": "code",
   "execution_count": 34,
   "id": "64e32499",
   "metadata": {},
   "outputs": [],
   "source": [
    "# FUNCTION TO READ DATAFRAME:\n",
    "def read_dataframe(filename):                                                           # Defining function.\n",
    "    \n",
    "    if filename.endswith(\".csv\"):                                                       # Checking.\n",
    "        df = pd.read_csv(filename)                                                      # Reading the dataset.\n",
    "        df.lpep_dropoff_datetime = pd.to_datetime(df.lpep_dropoff_datetime)             # Converting to datetime. \n",
    "        df.lpep_pickup_datetime = pd.to_datetime(df.lpep_pickup_datetime)               # Converting to datetime. \n",
    "        \n",
    "    elif filename.endswith(\".parquet\"):\n",
    "        df = pd.read_parquet(filename)\n",
    "        \n",
    "    df[\"duration\"] = df.lpep_dropoff_datetime - df.lpep_pickup_datetime\n",
    "    df.duration = df.duration.apply(lambda x: x.total_seconds() / 60)\n",
    "    \n",
    "    df = df[(df.duration >= 1) & (df.duration <= 60)]\n",
    "    \n",
    "    categorical = ['PULocationID', 'DOLocationID']\n",
    "    numerical = ['trip_distance']\n",
    "    df[categorical] = df[categorical].astype(str)                                       # Conversion.\n",
    "    \n",
    "    return df\n",
    "\n",
    "# FUNCTION TO PROCESS DATA:\n",
    "def preprocess(df, dv):\n",
    "    df[\"PU_DO\"] = df['PULocationID'] + '_' + df['DOLocationID']\n",
    "    categorical = [\"PU_DO\"]\n",
    "    numerical = [\"trip_distance\"] \n",
    "    train_dicts = df[categorical + numerical].to_dict(orient=\"records\")   # Initializing dictionary.\n",
    "    return dv.transform(train_dicts)\n",
    "\n",
    "# FUNCTION TO TEST MODEL:\n",
    "def test_model(name, stage, X_test, y_test):\n",
    "    model = mlflow.pyfunc.load_model(f\"models:/{name}/{stage}\")\n",
    "    y_pred = model.predict(X_test)\n",
    "    return {\"rmse\": mean_squared_error(y_test, y_pred, squared=False)}"
   ]
  },
  {
   "cell_type": "code",
   "execution_count": 27,
   "id": "8ab243b0",
   "metadata": {},
   "outputs": [
    {
     "data": {
      "text/html": [
       "<div>\n",
       "<style scoped>\n",
       "    .dataframe tbody tr th:only-of-type {\n",
       "        vertical-align: middle;\n",
       "    }\n",
       "\n",
       "    .dataframe tbody tr th {\n",
       "        vertical-align: top;\n",
       "    }\n",
       "\n",
       "    .dataframe thead th {\n",
       "        text-align: right;\n",
       "    }\n",
       "</style>\n",
       "<table border=\"1\" class=\"dataframe\">\n",
       "  <thead>\n",
       "    <tr style=\"text-align: right;\">\n",
       "      <th></th>\n",
       "      <th>VendorID</th>\n",
       "      <th>lpep_pickup_datetime</th>\n",
       "      <th>lpep_dropoff_datetime</th>\n",
       "      <th>store_and_fwd_flag</th>\n",
       "      <th>RatecodeID</th>\n",
       "      <th>PULocationID</th>\n",
       "      <th>DOLocationID</th>\n",
       "      <th>passenger_count</th>\n",
       "      <th>trip_distance</th>\n",
       "      <th>fare_amount</th>\n",
       "      <th>...</th>\n",
       "      <th>mta_tax</th>\n",
       "      <th>tip_amount</th>\n",
       "      <th>tolls_amount</th>\n",
       "      <th>ehail_fee</th>\n",
       "      <th>improvement_surcharge</th>\n",
       "      <th>total_amount</th>\n",
       "      <th>payment_type</th>\n",
       "      <th>trip_type</th>\n",
       "      <th>congestion_surcharge</th>\n",
       "      <th>duration</th>\n",
       "    </tr>\n",
       "  </thead>\n",
       "  <tbody>\n",
       "    <tr>\n",
       "      <th>0</th>\n",
       "      <td>2</td>\n",
       "      <td>2021-03-01 00:05:42</td>\n",
       "      <td>2021-03-01 00:14:03</td>\n",
       "      <td>N</td>\n",
       "      <td>1.0</td>\n",
       "      <td>83</td>\n",
       "      <td>129</td>\n",
       "      <td>1.0</td>\n",
       "      <td>1.56</td>\n",
       "      <td>7.5</td>\n",
       "      <td>...</td>\n",
       "      <td>0.5</td>\n",
       "      <td>0.00</td>\n",
       "      <td>0.0</td>\n",
       "      <td>NaN</td>\n",
       "      <td>0.3</td>\n",
       "      <td>8.80</td>\n",
       "      <td>1.0</td>\n",
       "      <td>1.0</td>\n",
       "      <td>0.0</td>\n",
       "      <td>8.350000</td>\n",
       "    </tr>\n",
       "    <tr>\n",
       "      <th>1</th>\n",
       "      <td>2</td>\n",
       "      <td>2021-03-01 00:21:03</td>\n",
       "      <td>2021-03-01 00:26:17</td>\n",
       "      <td>N</td>\n",
       "      <td>1.0</td>\n",
       "      <td>243</td>\n",
       "      <td>235</td>\n",
       "      <td>1.0</td>\n",
       "      <td>0.96</td>\n",
       "      <td>6.0</td>\n",
       "      <td>...</td>\n",
       "      <td>0.5</td>\n",
       "      <td>0.00</td>\n",
       "      <td>0.0</td>\n",
       "      <td>NaN</td>\n",
       "      <td>0.3</td>\n",
       "      <td>7.30</td>\n",
       "      <td>2.0</td>\n",
       "      <td>1.0</td>\n",
       "      <td>0.0</td>\n",
       "      <td>5.233333</td>\n",
       "    </tr>\n",
       "    <tr>\n",
       "      <th>2</th>\n",
       "      <td>2</td>\n",
       "      <td>2021-03-01 00:02:06</td>\n",
       "      <td>2021-03-01 00:22:26</td>\n",
       "      <td>N</td>\n",
       "      <td>1.0</td>\n",
       "      <td>75</td>\n",
       "      <td>242</td>\n",
       "      <td>1.0</td>\n",
       "      <td>9.93</td>\n",
       "      <td>28.0</td>\n",
       "      <td>...</td>\n",
       "      <td>0.5</td>\n",
       "      <td>2.00</td>\n",
       "      <td>0.0</td>\n",
       "      <td>NaN</td>\n",
       "      <td>0.3</td>\n",
       "      <td>31.30</td>\n",
       "      <td>1.0</td>\n",
       "      <td>1.0</td>\n",
       "      <td>0.0</td>\n",
       "      <td>20.333333</td>\n",
       "    </tr>\n",
       "    <tr>\n",
       "      <th>3</th>\n",
       "      <td>2</td>\n",
       "      <td>2021-03-01 00:24:03</td>\n",
       "      <td>2021-03-01 00:31:43</td>\n",
       "      <td>N</td>\n",
       "      <td>1.0</td>\n",
       "      <td>242</td>\n",
       "      <td>208</td>\n",
       "      <td>1.0</td>\n",
       "      <td>2.57</td>\n",
       "      <td>9.5</td>\n",
       "      <td>...</td>\n",
       "      <td>0.5</td>\n",
       "      <td>0.00</td>\n",
       "      <td>0.0</td>\n",
       "      <td>NaN</td>\n",
       "      <td>0.3</td>\n",
       "      <td>10.80</td>\n",
       "      <td>2.0</td>\n",
       "      <td>1.0</td>\n",
       "      <td>0.0</td>\n",
       "      <td>7.666667</td>\n",
       "    </tr>\n",
       "    <tr>\n",
       "      <th>4</th>\n",
       "      <td>1</td>\n",
       "      <td>2021-03-01 00:11:10</td>\n",
       "      <td>2021-03-01 00:14:46</td>\n",
       "      <td>N</td>\n",
       "      <td>1.0</td>\n",
       "      <td>41</td>\n",
       "      <td>151</td>\n",
       "      <td>1.0</td>\n",
       "      <td>0.80</td>\n",
       "      <td>5.0</td>\n",
       "      <td>...</td>\n",
       "      <td>0.5</td>\n",
       "      <td>1.85</td>\n",
       "      <td>0.0</td>\n",
       "      <td>NaN</td>\n",
       "      <td>0.3</td>\n",
       "      <td>8.15</td>\n",
       "      <td>1.0</td>\n",
       "      <td>1.0</td>\n",
       "      <td>0.0</td>\n",
       "      <td>3.600000</td>\n",
       "    </tr>\n",
       "  </tbody>\n",
       "</table>\n",
       "<p>5 rows × 21 columns</p>\n",
       "</div>"
      ],
      "text/plain": [
       "   VendorID lpep_pickup_datetime lpep_dropoff_datetime store_and_fwd_flag  \\\n",
       "0         2  2021-03-01 00:05:42   2021-03-01 00:14:03                  N   \n",
       "1         2  2021-03-01 00:21:03   2021-03-01 00:26:17                  N   \n",
       "2         2  2021-03-01 00:02:06   2021-03-01 00:22:26                  N   \n",
       "3         2  2021-03-01 00:24:03   2021-03-01 00:31:43                  N   \n",
       "4         1  2021-03-01 00:11:10   2021-03-01 00:14:46                  N   \n",
       "\n",
       "   RatecodeID PULocationID DOLocationID  passenger_count  trip_distance  \\\n",
       "0         1.0           83          129              1.0           1.56   \n",
       "1         1.0          243          235              1.0           0.96   \n",
       "2         1.0           75          242              1.0           9.93   \n",
       "3         1.0          242          208              1.0           2.57   \n",
       "4         1.0           41          151              1.0           0.80   \n",
       "\n",
       "   fare_amount  ...  mta_tax  tip_amount  tolls_amount  ehail_fee  \\\n",
       "0          7.5  ...      0.5        0.00           0.0        NaN   \n",
       "1          6.0  ...      0.5        0.00           0.0        NaN   \n",
       "2         28.0  ...      0.5        2.00           0.0        NaN   \n",
       "3          9.5  ...      0.5        0.00           0.0        NaN   \n",
       "4          5.0  ...      0.5        1.85           0.0        NaN   \n",
       "\n",
       "   improvement_surcharge  total_amount  payment_type  trip_type  \\\n",
       "0                    0.3          8.80           1.0        1.0   \n",
       "1                    0.3          7.30           2.0        1.0   \n",
       "2                    0.3         31.30           1.0        1.0   \n",
       "3                    0.3         10.80           2.0        1.0   \n",
       "4                    0.3          8.15           1.0        1.0   \n",
       "\n",
       "   congestion_surcharge   duration  \n",
       "0                   0.0   8.350000  \n",
       "1                   0.0   5.233333  \n",
       "2                   0.0  20.333333  \n",
       "3                   0.0   7.666667  \n",
       "4                   0.0   3.600000  \n",
       "\n",
       "[5 rows x 21 columns]"
      ]
     },
     "execution_count": 27,
     "metadata": {},
     "output_type": "execute_result"
    }
   ],
   "source": [
    "# READING THE DATASET:\n",
    "df = read_dataframe(\"./data/green_tripdata_2021-03.parquet\")    # Reading dataset.\n",
    "df.head()                                                       # Inspection."
   ]
  },
  {
   "cell_type": "code",
   "execution_count": 28,
   "id": "b26b9138",
   "metadata": {},
   "outputs": [
    {
     "data": {
      "text/plain": [
       "'/home/thinam_cool/preprocessor'"
      ]
     },
     "execution_count": 28,
     "metadata": {},
     "output_type": "execute_result"
    }
   ],
   "source": [
    "# DOWNLOADING ARTIFACTS:\n",
    "run_id = \"646a8e3c8db64334853cd81e8cba2272\"\n",
    "client.download_artifacts(run_id=run_id, path=\"preprocessor\", dst_path=\".\")"
   ]
  },
  {
   "cell_type": "code",
   "execution_count": 30,
   "id": "a815cf8a",
   "metadata": {},
   "outputs": [],
   "source": [
    "# INITIALIZING DICT VECTORIZER:\n",
    "with open(\"preprocessor/preprocessor.b\", \"rb\") as f_in:\n",
    "    dv = pickle.load(f_in)"
   ]
  },
  {
   "cell_type": "code",
   "execution_count": 31,
   "id": "40632bb6",
   "metadata": {},
   "outputs": [],
   "source": [
    "# PREPROCESSING THE DATASET:\n",
    "X_test = preprocess(df, dv)\n",
    "target = \"duration\"\n",
    "y_test = df[target].values"
   ]
  },
  {
   "cell_type": "code",
   "execution_count": 35,
   "id": "17567e2b",
   "metadata": {},
   "outputs": [
    {
     "name": "stdout",
     "output_type": "stream",
     "text": [
      "[11:54:46] WARNING: ../src/objective/regression_obj.cu:203: reg:linear is now deprecated in favor of reg:squarederror.\n",
      "CPU times: user 15.4 s, sys: 0 ns, total: 15.4 s\n",
      "Wall time: 2.07 s\n"
     ]
    },
    {
     "data": {
      "text/plain": [
       "{'rmse': 6.241212494560512}"
      ]
     },
     "execution_count": 35,
     "metadata": {},
     "output_type": "execute_result"
    }
   ],
   "source": [
    "# TESTING THE MODEL IN PRODUCTION:\n",
    "%time test_model(name=model_name, stage=\"Production\", X_test=X_test, y_test=y_test)"
   ]
  },
  {
   "cell_type": "code",
   "execution_count": 36,
   "id": "a800ccdd",
   "metadata": {},
   "outputs": [
    {
     "data": {
      "text/plain": [
       "<ModelVersion: creation_timestamp=1653800531991, current_stage='Production', description='', last_updated_timestamp=1653804781777, name='nyc-taxi-regressor', run_id='a758dd7df8f44bec96bda3371c988e4f', run_link='', source='./mlruns/2/a758dd7df8f44bec96bda3371c988e4f/artifacts/model', status='READY', status_message=None, tags={'model ': 'gradientboostingregressor'}, user_id=None, version=2>"
      ]
     },
     "execution_count": 36,
     "metadata": {},
     "output_type": "execute_result"
    }
   ],
   "source": [
    "# TRANSITION MODEL VERSION STAGE:\n",
    "client.transition_model_version_stage(\n",
    "    name=model_name,\n",
    "    version=2, \n",
    "    stage=\"Production\",\n",
    "    archive_existing_versions=True\n",
    ")"
   ]
  }
 ],
 "metadata": {
  "kernelspec": {
   "display_name": "Python 3 (ipykernel)",
   "language": "python",
   "name": "python3"
  },
  "language_info": {
   "codemirror_mode": {
    "name": "ipython",
    "version": 3
   },
   "file_extension": ".py",
   "mimetype": "text/x-python",
   "name": "python",
   "nbconvert_exporter": "python",
   "pygments_lexer": "ipython3",
   "version": "3.9.12"
  }
 },
 "nbformat": 4,
 "nbformat_minor": 5
}
