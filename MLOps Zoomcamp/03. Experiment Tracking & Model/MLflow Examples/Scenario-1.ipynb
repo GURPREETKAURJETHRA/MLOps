{
 "cells": [
  {
   "cell_type": "markdown",
   "id": "ac336bfe",
   "metadata": {},
   "source": [
    "**MLflow setup:**\n",
    "- Tracking server: No.\n",
    "- Backend store: Local filesystem.\n",
    "- Artifacts store: Local filesystem."
   ]
  },
  {
   "cell_type": "code",
   "execution_count": 10,
   "id": "449bd440",
   "metadata": {},
   "outputs": [],
   "source": [
    "# IMPORTING MODULES:\n",
    "import mlflow\n",
    "from sklearn.linear_model import LogisticRegression\n",
    "from sklearn.datasets import load_iris\n",
    "from sklearn.metrics import accuracy_score\n",
    "from mlflow.tracking import MlflowClient\n",
    "from mlflow.exceptions import MlflowException\n",
    "\n",
    "# IGNORING WARNINGS: \n",
    "import warnings\n",
    "warnings.filterwarnings(\"ignore\")"
   ]
  },
  {
   "cell_type": "code",
   "execution_count": 3,
   "id": "a87fe115",
   "metadata": {},
   "outputs": [
    {
     "name": "stdout",
     "output_type": "stream",
     "text": [
      "tracking URI: 'file:///home/thinam_cool/mlflow-examples/mlruns'\n"
     ]
    }
   ],
   "source": [
    "# INSPECTING EXPERIMENTS:\n",
    "print(f\"tracking URI: '{mlflow.get_tracking_uri()}'\")"
   ]
  },
  {
   "cell_type": "code",
   "execution_count": 4,
   "id": "b4e8a634",
   "metadata": {},
   "outputs": [
    {
     "data": {
      "text/plain": [
       "[<Experiment: artifact_location='file:///home/thinam_cool/mlflow-examples/mlruns/0', experiment_id='0', lifecycle_stage='active', name='Default', tags={}>]"
      ]
     },
     "execution_count": 4,
     "metadata": {},
     "output_type": "execute_result"
    }
   ],
   "source": [
    "# INSPECTING EXPERIMENTS:\n",
    "mlflow.list_experiments()"
   ]
  },
  {
   "cell_type": "code",
   "execution_count": 6,
   "id": "4b88489b",
   "metadata": {},
   "outputs": [
    {
     "name": "stderr",
     "output_type": "stream",
     "text": [
      "2022/06/11 13:22:47 INFO mlflow.tracking.fluent: Experiment with name 'my-exp-scenario-1' does not exist. Creating a new experiment.\n"
     ]
    },
    {
     "name": "stdout",
     "output_type": "stream",
     "text": [
      "default artifacts URI: 'file:///home/thinam_cool/mlflow-examples/mlruns/1/4954d70af228402bb46f4b9f0ef5d0d6/artifacts'\n"
     ]
    }
   ],
   "source": [
    "# CREATING EXPERIMENTS AND LOGGING NEW RUN:\n",
    "mlflow.set_experiment(\"my-exp-scenario-1\")\n",
    "\n",
    "with mlflow.start_run():\n",
    "    X, y = load_iris(return_X_y=True)\n",
    "    \n",
    "    params = {\"C\": 0.1, \"random_state\": 22}\n",
    "    mlflow.log_params(params)\n",
    "    \n",
    "    lr = LogisticRegression(**params).fit(X, y)               # Initializing LR.\n",
    "    y_pred = lr.predict(X)                                    # Initializing predictions.\n",
    "    mlflow.log_metric(\"accuracy\", accuracy_score(y, y_pred))\n",
    "    \n",
    "    mlflow.sklearn.log_model(lr, artifact_path=\"models\")\n",
    "    print(f\"default artifacts URI: '{mlflow.get_artifact_uri()}'\")"
   ]
  },
  {
   "cell_type": "code",
   "execution_count": 7,
   "id": "277f645f",
   "metadata": {},
   "outputs": [
    {
     "data": {
      "text/plain": [
       "[<Experiment: artifact_location='file:///home/thinam_cool/mlflow-examples/mlruns/0', experiment_id='0', lifecycle_stage='active', name='Default', tags={}>,\n",
       " <Experiment: artifact_location='file:///home/thinam_cool/mlflow-examples/mlruns/1', experiment_id='1', lifecycle_stage='active', name='my-exp-scenario-1', tags={}>]"
      ]
     },
     "execution_count": 7,
     "metadata": {},
     "output_type": "execute_result"
    }
   ],
   "source": [
    "# INSPECTING EXPERIMENTS:\n",
    "mlflow.list_experiments()"
   ]
  },
  {
   "cell_type": "code",
   "execution_count": 9,
   "id": "e2c9a947",
   "metadata": {},
   "outputs": [],
   "source": [
    "# INTERACTING WITH MODEL REGISTRY:\n",
    "client = MlflowClient()"
   ]
  },
  {
   "cell_type": "code",
   "execution_count": 11,
   "id": "04be8fef",
   "metadata": {},
   "outputs": [
    {
     "name": "stdout",
     "output_type": "stream",
     "text": [
      "It's not possible to access the model registry :(\n"
     ]
    }
   ],
   "source": [
    "# INTERACTING WITH MODEL REGISTRY:\n",
    "try:\n",
    "    client.list_registered_models()\n",
    "except MlflowException:\n",
    "    print(\"It's not possible to access the model registry :(\")"
   ]
  }
 ],
 "metadata": {
  "kernelspec": {
   "display_name": "Python 3 (ipykernel)",
   "language": "python",
   "name": "python3"
  },
  "language_info": {
   "codemirror_mode": {
    "name": "ipython",
    "version": 3
   },
   "file_extension": ".py",
   "mimetype": "text/x-python",
   "name": "python",
   "nbconvert_exporter": "python",
   "pygments_lexer": "ipython3",
   "version": "3.9.12"
  }
 },
 "nbformat": 4,
 "nbformat_minor": 5
}
