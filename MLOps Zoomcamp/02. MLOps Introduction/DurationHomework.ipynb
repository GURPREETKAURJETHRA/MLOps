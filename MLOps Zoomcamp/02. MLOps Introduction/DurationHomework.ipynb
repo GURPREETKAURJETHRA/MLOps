{
  "nbformat": 4,
  "nbformat_minor": 0,
  "metadata": {
    "colab": {
      "name": "DurationHomework.ipynb",
      "provenance": []
    },
    "kernelspec": {
      "name": "python3",
      "display_name": "Python 3"
    },
    "language_info": {
      "name": "python"
    }
  },
  "cells": [
    {
      "cell_type": "code",
      "execution_count": 1,
      "metadata": {
        "id": "Iy9V_Dvi1Clb"
      },
      "outputs": [],
      "source": [
        "# IMPORTING MODULES:\n",
        "import os\n",
        "import pandas as pd\n",
        "import pickle \n",
        "import seaborn as sns\n",
        "import matplotlib.pyplot as plt\n",
        "from sklearn.feature_extraction import DictVectorizer\n",
        "from sklearn.linear_model import LinearRegression\n",
        "from sklearn.linear_model import Lasso\n",
        "from sklearn.linear_model import Ridge\n",
        "from sklearn.metrics import mean_squared_error\n",
        "\n",
        "#@ IGNORING WARNINGS: \n",
        "import warnings\n",
        "warnings.filterwarnings(\"ignore\")"
      ]
    },
    {
      "cell_type": "code",
      "source": [
        "# DOWNLOADING THE DATASET: UNCOMMENT BELOW:\n",
        "# !wget https://nyc-tlc.s3.amazonaws.com/trip+data/fhv_tripdata_2021-01.parquet\n",
        "# !wget https://nyc-tlc.s3.amazonaws.com/trip+data/fhv_tripdata_2021-02.parquet"
      ],
      "metadata": {
        "id": "XPnkKhNO4jfV"
      },
      "execution_count": 3,
      "outputs": []
    },
    {
      "cell_type": "code",
      "source": [
        "# READING THE DATASET:\n",
        "df = pd.read_parquet(\"./fhv_tripdata_2021-01.parquet\")      # Reading dataset.\n",
        "df                                                          # Inspection."
      ],
      "metadata": {
        "colab": {
          "base_uri": "https://localhost:8080/",
          "height": 424
        },
        "id": "2d0Nshgn5Q4-",
        "outputId": "cce072f5-08dc-437a-8e09-27e66a3d2ae8"
      },
      "execution_count": 5,
      "outputs": [
        {
          "output_type": "execute_result",
          "data": {
            "text/plain": [
              "        dispatching_base_num     pickup_datetime    dropOff_datetime  \\\n",
              "0                     B00009 2021-01-01 00:27:00 2021-01-01 00:44:00   \n",
              "1                     B00009 2021-01-01 00:50:00 2021-01-01 01:07:00   \n",
              "2                     B00013 2021-01-01 00:01:00 2021-01-01 01:51:00   \n",
              "3                     B00037 2021-01-01 00:13:09 2021-01-01 00:21:26   \n",
              "4                     B00037 2021-01-01 00:38:31 2021-01-01 00:53:44   \n",
              "...                      ...                 ...                 ...   \n",
              "1154107               B03266 2021-01-31 23:43:03 2021-01-31 23:51:48   \n",
              "1154108               B03284 2021-01-31 23:50:27 2021-02-01 00:48:03   \n",
              "1154109      B03285          2021-01-31 23:13:46 2021-01-31 23:29:58   \n",
              "1154110      B03285          2021-01-31 23:58:03 2021-02-01 00:17:29   \n",
              "1154111               B03321 2021-01-31 23:39:00 2021-02-01 00:15:00   \n",
              "\n",
              "         PUlocationID  DOlocationID SR_Flag Affiliated_base_number  \n",
              "0                 NaN           NaN    None                 B00009  \n",
              "1                 NaN           NaN    None                 B00009  \n",
              "2                 NaN           NaN    None                 B00013  \n",
              "3                 NaN          72.0    None                 B00037  \n",
              "4                 NaN          61.0    None                 B00037  \n",
              "...               ...           ...     ...                    ...  \n",
              "1154107           7.0           7.0    None                 B03266  \n",
              "1154108          44.0          91.0    None                         \n",
              "1154109         171.0         171.0    None        B03285           \n",
              "1154110          15.0          15.0    None        B03285           \n",
              "1154111           NaN           NaN    None                 B03321  \n",
              "\n",
              "[1154112 rows x 7 columns]"
            ],
            "text/html": [
              "\n",
              "  <div id=\"df-b835d3c3-7cdb-4b23-a73e-56655650eb89\">\n",
              "    <div class=\"colab-df-container\">\n",
              "      <div>\n",
              "<style scoped>\n",
              "    .dataframe tbody tr th:only-of-type {\n",
              "        vertical-align: middle;\n",
              "    }\n",
              "\n",
              "    .dataframe tbody tr th {\n",
              "        vertical-align: top;\n",
              "    }\n",
              "\n",
              "    .dataframe thead th {\n",
              "        text-align: right;\n",
              "    }\n",
              "</style>\n",
              "<table border=\"1\" class=\"dataframe\">\n",
              "  <thead>\n",
              "    <tr style=\"text-align: right;\">\n",
              "      <th></th>\n",
              "      <th>dispatching_base_num</th>\n",
              "      <th>pickup_datetime</th>\n",
              "      <th>dropOff_datetime</th>\n",
              "      <th>PUlocationID</th>\n",
              "      <th>DOlocationID</th>\n",
              "      <th>SR_Flag</th>\n",
              "      <th>Affiliated_base_number</th>\n",
              "    </tr>\n",
              "  </thead>\n",
              "  <tbody>\n",
              "    <tr>\n",
              "      <th>0</th>\n",
              "      <td>B00009</td>\n",
              "      <td>2021-01-01 00:27:00</td>\n",
              "      <td>2021-01-01 00:44:00</td>\n",
              "      <td>NaN</td>\n",
              "      <td>NaN</td>\n",
              "      <td>None</td>\n",
              "      <td>B00009</td>\n",
              "    </tr>\n",
              "    <tr>\n",
              "      <th>1</th>\n",
              "      <td>B00009</td>\n",
              "      <td>2021-01-01 00:50:00</td>\n",
              "      <td>2021-01-01 01:07:00</td>\n",
              "      <td>NaN</td>\n",
              "      <td>NaN</td>\n",
              "      <td>None</td>\n",
              "      <td>B00009</td>\n",
              "    </tr>\n",
              "    <tr>\n",
              "      <th>2</th>\n",
              "      <td>B00013</td>\n",
              "      <td>2021-01-01 00:01:00</td>\n",
              "      <td>2021-01-01 01:51:00</td>\n",
              "      <td>NaN</td>\n",
              "      <td>NaN</td>\n",
              "      <td>None</td>\n",
              "      <td>B00013</td>\n",
              "    </tr>\n",
              "    <tr>\n",
              "      <th>3</th>\n",
              "      <td>B00037</td>\n",
              "      <td>2021-01-01 00:13:09</td>\n",
              "      <td>2021-01-01 00:21:26</td>\n",
              "      <td>NaN</td>\n",
              "      <td>72.0</td>\n",
              "      <td>None</td>\n",
              "      <td>B00037</td>\n",
              "    </tr>\n",
              "    <tr>\n",
              "      <th>4</th>\n",
              "      <td>B00037</td>\n",
              "      <td>2021-01-01 00:38:31</td>\n",
              "      <td>2021-01-01 00:53:44</td>\n",
              "      <td>NaN</td>\n",
              "      <td>61.0</td>\n",
              "      <td>None</td>\n",
              "      <td>B00037</td>\n",
              "    </tr>\n",
              "    <tr>\n",
              "      <th>...</th>\n",
              "      <td>...</td>\n",
              "      <td>...</td>\n",
              "      <td>...</td>\n",
              "      <td>...</td>\n",
              "      <td>...</td>\n",
              "      <td>...</td>\n",
              "      <td>...</td>\n",
              "    </tr>\n",
              "    <tr>\n",
              "      <th>1154107</th>\n",
              "      <td>B03266</td>\n",
              "      <td>2021-01-31 23:43:03</td>\n",
              "      <td>2021-01-31 23:51:48</td>\n",
              "      <td>7.0</td>\n",
              "      <td>7.0</td>\n",
              "      <td>None</td>\n",
              "      <td>B03266</td>\n",
              "    </tr>\n",
              "    <tr>\n",
              "      <th>1154108</th>\n",
              "      <td>B03284</td>\n",
              "      <td>2021-01-31 23:50:27</td>\n",
              "      <td>2021-02-01 00:48:03</td>\n",
              "      <td>44.0</td>\n",
              "      <td>91.0</td>\n",
              "      <td>None</td>\n",
              "      <td></td>\n",
              "    </tr>\n",
              "    <tr>\n",
              "      <th>1154109</th>\n",
              "      <td>B03285</td>\n",
              "      <td>2021-01-31 23:13:46</td>\n",
              "      <td>2021-01-31 23:29:58</td>\n",
              "      <td>171.0</td>\n",
              "      <td>171.0</td>\n",
              "      <td>None</td>\n",
              "      <td>B03285</td>\n",
              "    </tr>\n",
              "    <tr>\n",
              "      <th>1154110</th>\n",
              "      <td>B03285</td>\n",
              "      <td>2021-01-31 23:58:03</td>\n",
              "      <td>2021-02-01 00:17:29</td>\n",
              "      <td>15.0</td>\n",
              "      <td>15.0</td>\n",
              "      <td>None</td>\n",
              "      <td>B03285</td>\n",
              "    </tr>\n",
              "    <tr>\n",
              "      <th>1154111</th>\n",
              "      <td>B03321</td>\n",
              "      <td>2021-01-31 23:39:00</td>\n",
              "      <td>2021-02-01 00:15:00</td>\n",
              "      <td>NaN</td>\n",
              "      <td>NaN</td>\n",
              "      <td>None</td>\n",
              "      <td>B03321</td>\n",
              "    </tr>\n",
              "  </tbody>\n",
              "</table>\n",
              "<p>1154112 rows × 7 columns</p>\n",
              "</div>\n",
              "      <button class=\"colab-df-convert\" onclick=\"convertToInteractive('df-b835d3c3-7cdb-4b23-a73e-56655650eb89')\"\n",
              "              title=\"Convert this dataframe to an interactive table.\"\n",
              "              style=\"display:none;\">\n",
              "        \n",
              "  <svg xmlns=\"http://www.w3.org/2000/svg\" height=\"24px\"viewBox=\"0 0 24 24\"\n",
              "       width=\"24px\">\n",
              "    <path d=\"M0 0h24v24H0V0z\" fill=\"none\"/>\n",
              "    <path d=\"M18.56 5.44l.94 2.06.94-2.06 2.06-.94-2.06-.94-.94-2.06-.94 2.06-2.06.94zm-11 1L8.5 8.5l.94-2.06 2.06-.94-2.06-.94L8.5 2.5l-.94 2.06-2.06.94zm10 10l.94 2.06.94-2.06 2.06-.94-2.06-.94-.94-2.06-.94 2.06-2.06.94z\"/><path d=\"M17.41 7.96l-1.37-1.37c-.4-.4-.92-.59-1.43-.59-.52 0-1.04.2-1.43.59L10.3 9.45l-7.72 7.72c-.78.78-.78 2.05 0 2.83L4 21.41c.39.39.9.59 1.41.59.51 0 1.02-.2 1.41-.59l7.78-7.78 2.81-2.81c.8-.78.8-2.07 0-2.86zM5.41 20L4 18.59l7.72-7.72 1.47 1.35L5.41 20z\"/>\n",
              "  </svg>\n",
              "      </button>\n",
              "      \n",
              "  <style>\n",
              "    .colab-df-container {\n",
              "      display:flex;\n",
              "      flex-wrap:wrap;\n",
              "      gap: 12px;\n",
              "    }\n",
              "\n",
              "    .colab-df-convert {\n",
              "      background-color: #E8F0FE;\n",
              "      border: none;\n",
              "      border-radius: 50%;\n",
              "      cursor: pointer;\n",
              "      display: none;\n",
              "      fill: #1967D2;\n",
              "      height: 32px;\n",
              "      padding: 0 0 0 0;\n",
              "      width: 32px;\n",
              "    }\n",
              "\n",
              "    .colab-df-convert:hover {\n",
              "      background-color: #E2EBFA;\n",
              "      box-shadow: 0px 1px 2px rgba(60, 64, 67, 0.3), 0px 1px 3px 1px rgba(60, 64, 67, 0.15);\n",
              "      fill: #174EA6;\n",
              "    }\n",
              "\n",
              "    [theme=dark] .colab-df-convert {\n",
              "      background-color: #3B4455;\n",
              "      fill: #D2E3FC;\n",
              "    }\n",
              "\n",
              "    [theme=dark] .colab-df-convert:hover {\n",
              "      background-color: #434B5C;\n",
              "      box-shadow: 0px 1px 3px 1px rgba(0, 0, 0, 0.15);\n",
              "      filter: drop-shadow(0px 1px 2px rgba(0, 0, 0, 0.3));\n",
              "      fill: #FFFFFF;\n",
              "    }\n",
              "  </style>\n",
              "\n",
              "      <script>\n",
              "        const buttonEl =\n",
              "          document.querySelector('#df-b835d3c3-7cdb-4b23-a73e-56655650eb89 button.colab-df-convert');\n",
              "        buttonEl.style.display =\n",
              "          google.colab.kernel.accessAllowed ? 'block' : 'none';\n",
              "\n",
              "        async function convertToInteractive(key) {\n",
              "          const element = document.querySelector('#df-b835d3c3-7cdb-4b23-a73e-56655650eb89');\n",
              "          const dataTable =\n",
              "            await google.colab.kernel.invokeFunction('convertToInteractive',\n",
              "                                                     [key], {});\n",
              "          if (!dataTable) return;\n",
              "\n",
              "          const docLinkHtml = 'Like what you see? Visit the ' +\n",
              "            '<a target=\"_blank\" href=https://colab.research.google.com/notebooks/data_table.ipynb>data table notebook</a>'\n",
              "            + ' to learn more about interactive tables.';\n",
              "          element.innerHTML = '';\n",
              "          dataTable['output_type'] = 'display_data';\n",
              "          await google.colab.output.renderOutput(dataTable, element);\n",
              "          const docLink = document.createElement('div');\n",
              "          docLink.innerHTML = docLinkHtml;\n",
              "          element.appendChild(docLink);\n",
              "        }\n",
              "      </script>\n",
              "    </div>\n",
              "  </div>\n",
              "  "
            ]
          },
          "metadata": {},
          "execution_count": 5
        }
      ]
    },
    {
      "cell_type": "markdown",
      "source": [
        "- **Ans:** 1154112."
      ],
      "metadata": {
        "id": "htyw115-T5-C"
      }
    },
    {
      "cell_type": "code",
      "source": [
        "# PROCESSING THE DATASET:\n",
        "df[\"duration\"] = df.dropOff_datetime - df.pickup_datetime\n",
        "df.duration = df.duration.apply(lambda x: x.total_seconds() / 60)\n",
        "df.duration.mean()"
      ],
      "metadata": {
        "colab": {
          "base_uri": "https://localhost:8080/"
        },
        "id": "JMKlr-5L6XEK",
        "outputId": "7be6ba00-e770-4985-861c-4681981c62ea"
      },
      "execution_count": 8,
      "outputs": [
        {
          "output_type": "execute_result",
          "data": {
            "text/plain": [
              "19.1672240937939"
            ]
          },
          "metadata": {},
          "execution_count": 8
        }
      ]
    },
    {
      "cell_type": "markdown",
      "source": [
        "**Ans:** 19.16"
      ],
      "metadata": {
        "id": "-qzMsChwUMve"
      }
    },
    {
      "cell_type": "code",
      "source": [
        "# INSPECTING THE DATAFRAME:\n",
        "print(\"Before:\", len(df))\n",
        "df = df[(df.duration >= 1) & (df.duration <= 60)]\n",
        "print(\"After:\", len(df))"
      ],
      "metadata": {
        "colab": {
          "base_uri": "https://localhost:8080/"
        },
        "id": "8i02qzC7VGux",
        "outputId": "75801ba5-7963-4586-adfa-931bfb4a0adc"
      },
      "execution_count": 12,
      "outputs": [
        {
          "output_type": "stream",
          "name": "stdout",
          "text": [
            "Before: 1154112\n",
            "After: 1109826\n"
          ]
        }
      ]
    },
    {
      "cell_type": "code",
      "source": [
        "# INSPECTING DATAFRAME:\n",
        "df.dtypes"
      ],
      "metadata": {
        "colab": {
          "base_uri": "https://localhost:8080/"
        },
        "id": "Oo0Kt5zL7epO",
        "outputId": "e1afdf05-5d0a-48e8-ae84-450eb50dfe26"
      },
      "execution_count": 9,
      "outputs": [
        {
          "output_type": "execute_result",
          "data": {
            "text/plain": [
              "dispatching_base_num              object\n",
              "pickup_datetime           datetime64[ns]\n",
              "dropOff_datetime          datetime64[ns]\n",
              "PUlocationID                     float64\n",
              "DOlocationID                     float64\n",
              "SR_Flag                           object\n",
              "Affiliated_base_number            object\n",
              "duration                         float64\n",
              "dtype: object"
            ]
          },
          "metadata": {},
          "execution_count": 9
        }
      ]
    },
    {
      "cell_type": "code",
      "source": [
        "# PROCESSING THE DATASET:\n",
        "categorical = ['PUlocationID', 'DOlocationID']\n",
        "df[categorical] = df[categorical].astype(str)       # Conversion. \n",
        "df.dtypes                                           # Inspection."
      ],
      "metadata": {
        "colab": {
          "base_uri": "https://localhost:8080/"
        },
        "id": "j_FFLnIp79yU",
        "outputId": "622375b7-0d4f-48ae-87e1-bb0ee8346ea5"
      },
      "execution_count": 11,
      "outputs": [
        {
          "output_type": "execute_result",
          "data": {
            "text/plain": [
              "dispatching_base_num              object\n",
              "pickup_datetime           datetime64[ns]\n",
              "dropOff_datetime          datetime64[ns]\n",
              "PUlocationID                      object\n",
              "DOlocationID                      object\n",
              "SR_Flag                           object\n",
              "Affiliated_base_number            object\n",
              "duration                         float64\n",
              "dtype: object"
            ]
          },
          "metadata": {},
          "execution_count": 11
        }
      ]
    },
    {
      "cell_type": "code",
      "source": [
        "# INITIALIZING ONE HOT ENCODING:\n",
        "train_dicts = df[categorical].to_dict(orient=\"records\")                 # Initializing dictionary. \n",
        "dv = DictVectorizer()                                                   # Initializing dict vectorizer.\n",
        "X_train = dv.fit_transform(train_dicts)                                 # Initializing one hot encoding.\n",
        "target = \"duration\"\n",
        "y_train = df[target].values                                             # Initialization."
      ],
      "metadata": {
        "id": "64-8dgDQ8tTO"
      },
      "execution_count": 14,
      "outputs": []
    },
    {
      "cell_type": "code",
      "source": [
        "# INSPECTION:\n",
        "X_train.shape"
      ],
      "metadata": {
        "colab": {
          "base_uri": "https://localhost:8080/"
        },
        "id": "mXSRMJq7WMX-",
        "outputId": "00b7c56a-cb55-4bc6-b400-62fbe6bf1261"
      },
      "execution_count": 15,
      "outputs": [
        {
          "output_type": "execute_result",
          "data": {
            "text/plain": [
              "(1109826, 525)"
            ]
          },
          "metadata": {},
          "execution_count": 15
        }
      ]
    },
    {
      "cell_type": "markdown",
      "source": [
        "**Ans:** 525"
      ],
      "metadata": {
        "id": "kZnsJcv7WUF5"
      }
    },
    {
      "cell_type": "code",
      "source": [
        "# TRAINING LINEAR REGRESSION:\n",
        "lr = LinearRegression()                                 # Initialization.\n",
        "lr.fit(X_train, y_train)                                # Training the LR model.\n",
        "y_pred = lr.predict(X_train)                            # Initializing prediction.\n",
        "mean_squared_error(y_train, y_pred, squared=False)      # Inspecting MSE."
      ],
      "metadata": {
        "colab": {
          "base_uri": "https://localhost:8080/"
        },
        "id": "TPMb1w40-Gk8",
        "outputId": "6ecf1e6f-3823-4522-e364-34ff39097796"
      },
      "execution_count": 16,
      "outputs": [
        {
          "output_type": "execute_result",
          "data": {
            "text/plain": [
              "10.528519107212267"
            ]
          },
          "metadata": {},
          "execution_count": 16
        }
      ]
    },
    {
      "cell_type": "markdown",
      "source": [
        "**Ans:** 10.52"
      ],
      "metadata": {
        "id": "LVY5hGYZXYP1"
      }
    },
    {
      "cell_type": "code",
      "source": [
        "# VISUALIZATION OF PREDICTION:\n",
        "sns.distplot(y_pred, label=\"prediction\")\n",
        "sns.distplot(y_train, label=\"actual\")\n",
        "plt.legend();"
      ],
      "metadata": {
        "colab": {
          "base_uri": "https://localhost:8080/",
          "height": 265
        },
        "id": "YeeOXFxT-pCc",
        "outputId": "ba60e3f7-b583-4e51-a87b-0b62a47f9916"
      },
      "execution_count": 17,
      "outputs": [
        {
          "output_type": "display_data",
          "data": {
            "text/plain": [
              "<Figure size 432x288 with 1 Axes>"
            ],
            "image/png": "[encoded data removed]"
          },
          "metadata": {
            "needs_background": "light"
          }
        }
      ]
    }
  ]
}