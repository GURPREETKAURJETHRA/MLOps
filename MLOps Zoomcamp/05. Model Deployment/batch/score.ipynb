{
 "cells": [
  {
   "cell_type": "code",
   "execution_count": 1,
   "id": "669abaf4",
   "metadata": {},
   "outputs": [],
   "source": [
    "# IMPORTING MODULES:\n",
    "import os\n",
    "import pickle \n",
    "import uuid\n",
    "import pandas as pd\n",
    "from sklearn.feature_extraction import DictVectorizer\n",
    "from sklearn.ensemble import RandomForestRegressor\n",
    "from sklearn.metrics import mean_squared_error\n",
    "from sklearn.pipeline import make_pipeline\n",
    "\n",
    "#@ IGNORING WARNINGS: \n",
    "import warnings\n",
    "warnings.filterwarnings(\"ignore\")"
   ]
  },
  {
   "cell_type": "code",
   "execution_count": 2,
   "id": "1930e5a6",
   "metadata": {},
   "outputs": [
    {
     "data": {
      "text/plain": [
       "<Experiment: artifact_location='./mlruns/1', experiment_id='1', lifecycle_stage='active', name='green-taxi-duration', tags={}>"
      ]
     },
     "execution_count": 2,
     "metadata": {},
     "output_type": "execute_result"
    }
   ],
   "source": [
    "# IMPORTING AND SETTING UP MLFLOW:\n",
    "import mlflow\n",
    "from mlflow.tracking import MlflowClient\n",
    "\n",
    "mlflow.set_tracking_uri(\"sqlite:///mlflow.db\")\n",
    "mlflow.set_experiment(\"green-taxi-duration\")"
   ]
  },
  {
   "cell_type": "code",
   "execution_count": 3,
   "id": "25b95ed2",
   "metadata": {},
   "outputs": [],
   "source": [
    "# GETTING THE DATASET:\n",
    "year = 2021\n",
    "month = 1\n",
    "taxi_type = \"green\"\n",
    "input_file = f'https://d37ci6vzurychx.cloudfront.net/trip-data/{taxi_type}_tripdata_{year:04d}-{month:02d}.parquet'\n",
    "output_file = f'output/{taxi_type}-{year:04d}-{month:02d}.parquet'\n",
    "RUN_ID = os.getenv(\"RUN_ID\", \"895c76c3ee6746cb96328b189042f646\")"
   ]
  },
  {
   "cell_type": "code",
   "execution_count": 4,
   "id": "c503ff04",
   "metadata": {},
   "outputs": [],
   "source": [
    "# GENERATING UID:\n",
    "def generate_uuids(n):\n",
    "    ride_ids = []\n",
    "    for i in range(n):\n",
    "        ride_ids.append(str(uuid.uuid4()))\n",
    "    return ride_ids\n",
    "\n",
    "# OVERALL FUNCTION TO PREPARE DATAFRAME:\n",
    "def read_dataframe(filename):                                                           # Defining function.\n",
    "    if filename.endswith(\".csv\"):                                                       # Checking.\n",
    "        df = pd.read_csv(filename)                                                      # Reading the dataset.\n",
    "        df.lpep_dropoff_datetime = pd.to_datetime(df.lpep_dropoff_datetime)             # Converting to datetime. \n",
    "        df.lpep_pickup_datetime = pd.to_datetime(df.lpep_pickup_datetime)               # Converting to datetime. \n",
    "    elif filename.endswith(\".parquet\"):\n",
    "        df = pd.read_parquet(filename)\n",
    "        \n",
    "    df[\"duration\"] = df.lpep_dropoff_datetime - df.lpep_pickup_datetime\n",
    "    df.duration = df.duration.apply(lambda x: x.total_seconds() / 60)\n",
    "    df = df[(df.duration >= 1) & (df.duration <= 60)]\n",
    "    \n",
    "    df[\"ride_id\"] = generate_uuids(len(df))\n",
    "    return df\n",
    "\n",
    "def prepare_dictionaries(df: pd.DataFrame):\n",
    "    categorical = [\"PULocationID\", \"DOLocationID\"]\n",
    "    df[categorical] = df[categorical].astype(str)\n",
    "    \n",
    "    df[\"PU_DO\"] = df[\"PULocationID\"] + \"_\" + df[\"DOLocationID\"]\n",
    "    categorical = [\"PU_DO\"]\n",
    "    numerical = [\"trip_distance\"] \n",
    "    dicts = df[categorical + numerical].to_dict(orient=\"records\")   # Initializing dictionary.\n",
    "    return dicts"
   ]
  },
  {
   "cell_type": "code",
   "execution_count": 5,
   "id": "00ba3911",
   "metadata": {},
   "outputs": [],
   "source": [
    "# FUNCTION TO LOAD MODEL:\n",
    "def load_model(run_id):\n",
    "    logged_model = f'runs:/{run_id}/model'\n",
    "    loaded_model = mlflow.pyfunc.load_model(logged_model)\n",
    "    return loaded_model"
   ]
  },
  {
   "cell_type": "code",
   "execution_count": 6,
   "id": "985468d6",
   "metadata": {},
   "outputs": [],
   "source": [
    "# IMPLEMENTATION OF THE MODEL:\n",
    "def apply_model(input_file, run_id, output_file):\n",
    "    df = read_dataframe(input_file)\n",
    "    dicts = prepare_dictionaries(df)\n",
    "    \n",
    "    model = load_model(run_id)\n",
    "    y_pred = model.predict(dicts)\n",
    "    \n",
    "    df_result = pd.DataFrame()\n",
    "    df_result[\"ride_id\"] = df[\"ride_id\"]\n",
    "    df_result[\"lpep_pickup_datetime\"] = df[\"lpep_pickup_datetime\"]\n",
    "    df_result[\"PULocationID\"] = df[\"PULocationID\"]\n",
    "    df_result[\"DOLocationID\"] = df[\"DOLocationID\"]\n",
    "    df_result[\"actual_duration\"] = df[\"duration\"]\n",
    "    df_result[\"predicted_duration\"] = y_pred\n",
    "    df_result[\"diff\"] = df_result[\"actual_duration\"] - df_result[\"predicted_duration\"]\n",
    "    df_result[\"model_version\"] = run_id\n",
    "    \n",
    "    return df_result.to_parquet(output_file, index=False)"
   ]
  },
  {
   "cell_type": "code",
   "execution_count": 7,
   "id": "4391a46a",
   "metadata": {},
   "outputs": [],
   "source": [
    "# IMPLEMENTATION:\n",
    "apply_model(input_file=input_file, run_id=RUN_ID, output_file=output_file)"
   ]
  }
 ],
 "metadata": {
  "kernelspec": {
   "display_name": "Python 3 (ipykernel)",
   "language": "python",
   "name": "python3"
  },
  "language_info": {
   "codemirror_mode": {
    "name": "ipython",
    "version": 3
   },
   "file_extension": ".py",
   "mimetype": "text/x-python",
   "name": "python",
   "nbconvert_exporter": "python",
   "pygments_lexer": "ipython3",
   "version": "3.10.4"
  }
 },
 "nbformat": 4,
 "nbformat_minor": 5
}
