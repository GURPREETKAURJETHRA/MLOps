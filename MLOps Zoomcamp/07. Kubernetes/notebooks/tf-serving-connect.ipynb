{
 "cells": [
  {
   "cell_type": "code",
   "execution_count": 7,
   "id": "7a01529f",
   "metadata": {},
   "outputs": [],
   "source": [
    "# IMPORTING MODULES: UNCOMMENT BELOW:\n",
    "# !pip install grpcio==1.42.0 tensorflow-serving-api==2.7.0\n",
    "# !pip install keras-image-helper\n",
    "import grpc\n",
    "import tensorflow as tf\n",
    "\n",
    "from keras_image_helper import create_preprocessor\n",
    "from tensorflow_serving.apis import predict_pb2\n",
    "from tensorflow_serving.apis import prediction_service_pb2_grpc"
   ]
  },
  {
   "cell_type": "code",
   "execution_count": 6,
   "id": "a98485cd",
   "metadata": {},
   "outputs": [],
   "source": [
    "# INITIALIZING TENSORFLOW-SERVING CHANNEL:\n",
    "host = \"localhost:8500\"\n",
    "channel = grpc.insecure_channel(host)\n",
    "stub = prediction_service_pb2_grpc.PredictionServiceStub(channel)"
   ]
  },
  {
   "cell_type": "code",
   "execution_count": 8,
   "id": "e3ae2995",
   "metadata": {},
   "outputs": [],
   "source": [
    "# CREATING PREPROCESSOR:\n",
    "preprocessor = create_preprocessor(\"xception\", target_size=(299, 299))"
   ]
  },
  {
   "cell_type": "code",
   "execution_count": 12,
   "id": "3454aa2c",
   "metadata": {},
   "outputs": [],
   "source": [
    "# PROCESSING THE URL:\n",
    "url = \"https://raw.githubusercontent.com/alexeygrigorev/clothing-dataset-small/master/test/pants/4aabd82c-82e1-4181-a84d-d0c6e550d26d.jpg\"\n",
    "X = preprocessor.from_url(url)"
   ]
  },
  {
   "cell_type": "code",
   "execution_count": 13,
   "id": "37d1d037",
   "metadata": {},
   "outputs": [],
   "source": [
    "# CONVERTING NP ARRAY TO PROTOBUF:\n",
    "def np_to_protobuf(data):\n",
    "    return tf.make_tensor_proto(data, shape=data.shape)"
   ]
  },
  {
   "cell_type": "code",
   "execution_count": 14,
   "id": "ab0f2e3f",
   "metadata": {},
   "outputs": [],
   "source": [
    "# INITIALIZING THE PREDICTION:\n",
    "pb_request = predict_pb2.PredictRequest()\n",
    "pb_request.model_spec.name = \"clothing-model\"\n",
    "pb_request.model_spec.signature_name = \"serving_default\"\n",
    "pb_request.inputs[\"input_8\"].CopyFrom(np_to_protobuf(X))"
   ]
  },
  {
   "cell_type": "code",
   "execution_count": 15,
   "id": "52964161",
   "metadata": {},
   "outputs": [
    {
     "data": {
      "text/plain": [
       "outputs {\n",
       "  key: \"dense_7\"\n",
       "  value {\n",
       "    dtype: DT_FLOAT\n",
       "    tensor_shape {\n",
       "      dim {\n",
       "        size: 1\n",
       "      }\n",
       "      dim {\n",
       "        size: 10\n",
       "      }\n",
       "    }\n",
       "    float_val: -1.8798643350601196\n",
       "    float_val: -4.756312370300293\n",
       "    float_val: -2.3595328330993652\n",
       "    float_val: -1.0892643928527832\n",
       "    float_val: 9.90378475189209\n",
       "    float_val: -2.8261802196502686\n",
       "    float_val: -3.648311138153076\n",
       "    float_val: 3.2411553859710693\n",
       "    float_val: -2.612095355987549\n",
       "    float_val: -4.8520355224609375\n",
       "  }\n",
       "}\n",
       "model_spec {\n",
       "  name: \"clothing-model\"\n",
       "  version {\n",
       "    value: 1\n",
       "  }\n",
       "  signature_name: \"serving_default\"\n",
       "}"
      ]
     },
     "execution_count": 15,
     "metadata": {},
     "output_type": "execute_result"
    }
   ],
   "source": [
    "# INITIALIZING THE RESPONSE:\n",
    "pb_response = stub.Predict(pb_request, timeout=15.0)\n",
    "pb_response"
   ]
  },
  {
   "cell_type": "code",
   "execution_count": 17,
   "id": "6f883112",
   "metadata": {},
   "outputs": [],
   "source": [
    "# INSPECTING THE OUTPUT:\n",
    "preds = pb_response.outputs[\"dense_7\"].float_val"
   ]
  },
  {
   "cell_type": "code",
   "execution_count": 20,
   "id": "71d89a02",
   "metadata": {},
   "outputs": [
    {
     "data": {
      "text/plain": [
       "{'dress': -1.8798643350601196,\n",
       " 'hat': -4.756312370300293,\n",
       " 'longsleeve': -2.3595328330993652,\n",
       " 'outwear': -1.0892643928527832,\n",
       " 'pants': 9.90378475189209,\n",
       " 'shirt': -2.8261802196502686,\n",
       " 'shoes': -3.648311138153076,\n",
       " 'shorts': 3.2411553859710693,\n",
       " 'skirt': -2.612095355987549,\n",
       " 't-shirt': -4.8520355224609375}"
      ]
     },
     "execution_count": 20,
     "metadata": {},
     "output_type": "execute_result"
    }
   ],
   "source": [
    "# INSPECTING THE OUTPUT:\n",
    "classes = [\n",
    "    'dress',\n",
    "    'hat',\n",
    "    'longsleeve',\n",
    "    'outwear',\n",
    "    'pants',\n",
    "    'shirt',\n",
    "    'shoes',\n",
    "    'shorts',\n",
    "    'skirt',\n",
    "    't-shirt'\n",
    "]\n",
    "dict(zip(classes, preds))"
   ]
  }
 ],
 "metadata": {
  "kernelspec": {
   "display_name": "Python 3 (ipykernel)",
   "language": "python",
   "name": "python3"
  },
  "language_info": {
   "codemirror_mode": {
    "name": "ipython",
    "version": 3
   },
   "file_extension": ".py",
   "mimetype": "text/x-python",
   "name": "python",
   "nbconvert_exporter": "python",
   "pygments_lexer": "ipython3",
   "version": "3.10.6"
  }
 },
 "nbformat": 4,
 "nbformat_minor": 5
}
