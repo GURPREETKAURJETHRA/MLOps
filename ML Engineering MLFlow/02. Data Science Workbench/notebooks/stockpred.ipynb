{
 "cells": [
  {
   "cell_type": "code",
   "execution_count": 1,
   "metadata": {},
   "outputs": [],
   "source": [
    "# IMPORTING MODULES:\n",
    "import random\n",
    "import mlflow\n",
    "import pandas as pd\n",
    "from mlflow.pyfunc.model import PythonModel"
   ]
  },
  {
   "cell_type": "code",
   "execution_count": 2,
   "metadata": {},
   "outputs": [],
   "source": [
    "# DEFINING THE PYTHON MODEL:\n",
    "class RandomPredictor(PythonModel): # Defining the model.\n",
    "    def __init__(self): # Initializing contructor function.\n",
    "        pass\n",
    "\n",
    "    def predict(self, context, model_input): # Defining predict function. \n",
    "        return model_input.apply(lambda x: random.randint(0, 1))"
   ]
  },
  {
   "cell_type": "code",
   "execution_count": 3,
   "metadata": {},
   "outputs": [],
   "source": [
    "# INITIALIZING AND SAVING THE MODEL:\n",
    "model_path = \"randomizer_model\" # Initialization.\n",
    "model = RandomPredictor() # Initializing the model.\n",
    "mlflow.pyfunc.save_model(path=model_path, python_model=model) # Saving the model. "
   ]
  },
  {
   "cell_type": "code",
   "execution_count": 4,
   "metadata": {},
   "outputs": [
    {
     "name": "stdout",
     "output_type": "stream",
     "text": [
      "Model loaded successfully\n"
     ]
    }
   ],
   "source": [
    "# LOADING THE MODEL:\n",
    "loaded_model = mlflow.pyfunc.load_model(model_path) # Loading the model.\n",
    "print(\"Model loaded successfully\")"
   ]
  },
  {
   "cell_type": "code",
   "execution_count": 5,
   "metadata": {},
   "outputs": [
    {
     "name": "stderr",
     "output_type": "stream",
     "text": [
      "2022/08/27 11:57:38 INFO mlflow.tracking.fluent: Experiment with name 'stockpred_experiment' does not exist. Creating a new experiment.\n"
     ]
    }
   ],
   "source": [
    "# IMPLEMENTATION OF THE MODEL:\n",
    "model_input = pd.DataFrame([range(10)]) # Initializing input example.\n",
    "mlflow.set_experiment(\"stockpred_experiment\") # Initializing mlflow experiment.\n",
    "with mlflow.start_run():\n",
    "    model_output = loaded_model.predict(model_input) # Implementation of the model.\n",
    "    mlflow.log_metric(\"Days Up\", model_output.sum())\n",
    "    mlflow.log_artifact(\"stockpred.ipynb\")"
   ]
  }
 ],
 "metadata": {
  "kernelspec": {
   "display_name": "Python 3.10.4 64-bit",
   "language": "python",
   "name": "python3"
  },
  "language_info": {
   "codemirror_mode": {
    "name": "ipython",
    "version": 3
   },
   "file_extension": ".py",
   "mimetype": "text/x-python",
   "name": "python",
   "nbconvert_exporter": "python",
   "pygments_lexer": "ipython3",
   "version": "3.10.4"
  },
  "orig_nbformat": 4,
  "vscode": {
   "interpreter": {
    "hash": "916dbcbb3f70747c44a77c7bcd40155683ae19c65e1c03b4aa3499c5328201f1"
   }
  }
 },
 "nbformat": 4,
 "nbformat_minor": 2
}
