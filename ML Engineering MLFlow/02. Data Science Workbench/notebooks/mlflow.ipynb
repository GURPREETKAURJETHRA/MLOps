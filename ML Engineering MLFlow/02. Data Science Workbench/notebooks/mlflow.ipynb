{
 "cells": [
  {
   "cell_type": "code",
   "execution_count": 1,
   "metadata": {},
   "outputs": [],
   "source": [
    "# IMPORTING MODULES:\n",
    "import mlflow"
   ]
  },
  {
   "cell_type": "code",
   "execution_count": 3,
   "metadata": {},
   "outputs": [
    {
     "name": "stderr",
     "output_type": "stream",
     "text": [
      "2022/08/22 21:03:52 INFO mlflow.tracking.fluent: Experiment with name 'mlflow_experiments' does not exist. Creating a new experiment.\n"
     ]
    }
   ],
   "source": [
    "# RUNNING MLFLOW:\n",
    "mlflow.set_experiment(\"mlflow_experiments\")\n",
    "with mlflow.start_run():\n",
    "    mlflow.log_param(\"name\", \"mlflow_test\")\n",
    "    mlflow.log_param(\"category\", \"algorithm\")\n",
    "    mlflow.log_param(\"type\", \"classification\")\n",
    "    for i in range(5):\n",
    "        mlflow.log_metric(\"i\", i, step=i)\n",
    "    mlflow.log_artifact(\"mlflow.ipynb\")"
   ]
  }
 ],
 "metadata": {
  "kernelspec": {
   "display_name": "Python 3.10.4 64-bit",
   "language": "python",
   "name": "python3"
  },
  "language_info": {
   "codemirror_mode": {
    "name": "ipython",
    "version": 3
   },
   "file_extension": ".py",
   "mimetype": "text/x-python",
   "name": "python",
   "nbconvert_exporter": "python",
   "pygments_lexer": "ipython3",
   "version": "3.10.4"
  },
  "orig_nbformat": 4,
  "vscode": {
   "interpreter": {
    "hash": "916dbcbb3f70747c44a77c7bcd40155683ae19c65e1c03b4aa3499c5328201f1"
   }
  }
 },
 "nbformat": 4,
 "nbformat_minor": 2
}
