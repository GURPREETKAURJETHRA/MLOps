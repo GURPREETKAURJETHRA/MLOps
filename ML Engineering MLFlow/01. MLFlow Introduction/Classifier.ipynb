{
 "cells": [
  {
   "cell_type": "markdown",
   "id": "043e9fb3-9b06-4d08-8176-1554d80fca20",
   "metadata": {},
   "source": [
    "## **MLflow Introduction**\n",
    "- One of the main objectives of **MLflow** is to aid in the process of setting up ML systems and projects. "
   ]
  },
  {
   "cell_type": "code",
   "execution_count": 1,
   "id": "c23c0920-0772-4c9a-a053-dd10ce837635",
   "metadata": {},
   "outputs": [],
   "source": [
    "# INITIALIZING MODULES: \n",
    "import mlflow\n",
    "\n",
    "from sklearn import datasets\n",
    "from sklearn.linear_model import LogisticRegression\n",
    "from sklearn.model_selection import train_test_split"
   ]
  },
  {
   "cell_type": "code",
   "execution_count": 2,
   "id": "2a84cca1-0070-4a32-a2f1-7ea7256fa17d",
   "metadata": {},
   "outputs": [
    {
     "name": "stdout",
     "output_type": "stream",
     "text": [
      "(90, 4) (90,)\n",
      "(60, 4) (60,)\n"
     ]
    }
   ],
   "source": [
    "# LOADING THE SAMPLE DATASET:\n",
    "dataset = datasets.load_iris() # Loading the dataset.\n",
    "X_train, X_test, y_train, y_test = train_test_split(dataset.data, \n",
    "                                                    dataset.target, \n",
    "                                                    test_size=0.4, \n",
    "                                                    random_state=2022) # Initializing training and test dataset. \n",
    "print(X_train.shape, y_train.shape)\n",
    "print(X_test.shape, y_test.shape)"
   ]
  },
  {
   "cell_type": "code",
   "execution_count": null,
   "id": "a9fe35d3-81c7-4cfa-b5a2-a5913e4572fd",
   "metadata": {},
   "outputs": [],
   "source": [
    "# TRAINING THE REGRESSION MODEL:\n",
    "clf = LogisticRegression() # Instantiating estimator function.\n",
    "clf.fit(X_train, y_train)  # Training the model. "
   ]
  },
  {
   "cell_type": "markdown",
   "id": "66c01f3b-2f5d-460a-bfbd-bd4b5df790ca",
   "metadata": {},
   "source": [
    "**Note:**\n",
    "- **MLflow Tracking** is the module responsible for handling metrics and logs. MLflow `autolog` enables us to automatically log the experiment in the local directory. It captures the metrics produced by the underlying ML library in use. "
   ]
  },
  {
   "cell_type": "code",
   "execution_count": 4,
   "id": "8f8ea3de-71aa-4b48-93a7-6e896cb8eb73",
   "metadata": {},
   "outputs": [
    {
     "name": "stderr",
     "output_type": "stream",
     "text": [
      "2022/08/11 14:51:01 WARNING mlflow.utils.autologging_utils: MLflow autologging encountered a warning: \"/opt/conda/lib/python3.10/site-packages/_distutils_hack/__init__.py:33: UserWarning: Setuptools is replacing distutils.\"\n"
     ]
    }
   ],
   "source": [
    "# ADDING MLFLOW:\n",
    "mlflow.sklearn.autolog()\n",
    "with mlflow.start_run():\n",
    "    clf = LogisticRegression() # Instantiating estimator function.\n",
    "    clf.fit(X_train, y_train)  # Training the model."
   ]
  },
  {
   "cell_type": "code",
   "execution_count": 5,
   "id": "ead30421-98fb-4b94-88ea-5d1407fe0196",
   "metadata": {},
   "outputs": [
    {
     "name": "stdout",
     "output_type": "stream",
     "text": [
      "total 16\n",
      "-rw-r--r-- 1 jovyan users 8048 Aug 11 14:50 Classifier.ipynb\n",
      "drwxr-sr-x 4 jovyan users 4096 Aug 11 14:50 \u001b[0m\u001b[01;34mmlruns\u001b[0m/\n",
      "drwsrwsr-x 2 jovyan users 4096 Aug 11 07:51 \u001b[01;34mwork\u001b[0m/\n"
     ]
    }
   ],
   "source": [
    "# INSPECTING THE FOLDERS:\n",
    "ls -l"
   ]
  }
 ],
 "metadata": {
  "kernelspec": {
   "display_name": "Python 3 (ipykernel)",
   "language": "python",
   "name": "python3"
  },
  "language_info": {
   "codemirror_mode": {
    "name": "ipython",
    "version": 3
   },
   "file_extension": ".py",
   "mimetype": "text/x-python",
   "name": "python",
   "nbconvert_exporter": "python",
   "pygments_lexer": "ipython3",
   "version": "3.10.5"
  }
 },
 "nbformat": 4,
 "nbformat_minor": 5
}
